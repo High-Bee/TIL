{
 "cells": [
  {
   "cell_type": "code",
   "execution_count": 4,
   "metadata": {},
   "outputs": [],
   "source": [
    "## python은 module을 사용해요\n",
    "## module : 하나의 python 파일 => 변수, 함수, class\n",
    "## 파이썬의 module은 다른 파이썬 프로그램에서 불러와 사용할 수 있는\n",
    "## 파이썬 파일을 지칭 (모든 파이썬 파일은 module로 사용할 수 있다!)\n",
    "\n",
    "## 우리가 생성한 module을 어디에 저장해 놔야 할까요?\n",
    "\n",
    "import sys  # sys라는 module을 불러와서 사용할 거예요\n",
    "sys.path.append(\"C:/python_Lib\")   # sys.path가 리스트 형태인 것( 그래서 append 사용)\n",
    "                                   # 모듈을 저장할 수 있는 폴더를 지정 => C:/python_Lib\n",
    "    \n",
    "\n",
    "## 주피터 노트북 킬 때마다 sys.path.append(\"C:/python_Lib\") 입력한 후 모듈 사용하는 것 보다는\n",
    "\n",
    "## 환경변수 PYTHONPATH라는걸 만들어서 여기에 module을 넣어놓으면\n",
    "## 프로그램을 어디에서나 사용할 수 있어요!\n",
    "\n",
    "\n",
    "\n"
   ]
  },
  {
   "cell_type": "code",
   "execution_count": 14,
   "metadata": {},
   "outputs": [
    {
     "name": "stdout",
     "output_type": "stream",
     "text": [
      "3.141592\n",
      "21\n"
     ]
    }
   ],
   "source": [
    "## module을 사용하는 형식은\n",
    "## import 모듈명(파일명)\n",
    "\n",
    "# import module1  # 확장자는 적지 않는다! 이름만!\n",
    "\n",
    "# print(module1.module_Pi)\n",
    "# print(module1.mySum(10,20))\n",
    "\n",
    "# alias를 이용해서 편하게 사용해보자!\n",
    "# import module1 as m   # (별명 붙여줘서 간단하게 사용하기)\n",
    "\n",
    "# print(m.module_Pi)\n",
    "# print(m.mySum(10,20))\n",
    "\n",
    "# from 모듈이름 import 모듈함수(or 변수 or 클래스)\n",
    "# from module1 import module_Pi\n",
    "\n",
    "from module1 import *\n",
    "print(module_Pi)\n",
    "print(mySum(10,11))"
   ]
  },
  {
   "cell_type": "code",
   "execution_count": 25,
   "metadata": {},
   "outputs": [
    {
     "name": "stdout",
     "output_type": "stream",
     "text": [
      "3.141592\n"
     ]
    }
   ],
   "source": [
    "# module과 package\n",
    "\n",
    "# package : \".\" 기호를 이용해서 module을 계층적으로 관리\n",
    "# package는 물리적으로 확인할 때는 => 폴더로 표현!\n",
    "# 즉 패키지는 모듈을 관리하기 위한 폴더 개념인 거!\n",
    "\n",
    "# A.B 라고 할 때 A : package, B : module\n",
    "\n",
    "# import myPackage.module1\n",
    "\n",
    "from myPackage import module1 # 패키지부터 명시하고 어떤 모듈 쓸지 정하고 사용,\n",
    "                               # 앞으로 이런 형태 많이 사용할 것 \n",
    "\n",
    "print(module1.module_Pi)\n",
    "\n",
    "# from myPackage.module1 import mySum => 이렇게도 사용 가능\n",
    "# print(mySum(10,20))\n",
    "   \n"
   ]
  },
  {
   "cell_type": "code",
   "execution_count": null,
   "metadata": {},
   "outputs": [],
   "source": []
  }
 ],
 "metadata": {
  "kernelspec": {
   "display_name": "[CPU_ENV]",
   "language": "python",
   "name": "cpu_env"
  },
  "language_info": {
   "codemirror_mode": {
    "name": "ipython",
    "version": 3
   },
   "file_extension": ".py",
   "mimetype": "text/x-python",
   "name": "python",
   "nbconvert_exporter": "python",
   "pygments_lexer": "ipython3",
   "version": "3.6.9"
  }
 },
 "nbformat": 4,
 "nbformat_minor": 2
}
