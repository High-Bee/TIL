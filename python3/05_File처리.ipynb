{
 "cells": [
  {
   "cell_type": "code",
   "execution_count": 1,
   "metadata": {},
   "outputs": [
    {
     "ename": "FileNotFoundError",
     "evalue": "[Errno 2] No such file or directory: 'student_score.txt'",
     "output_type": "error",
     "traceback": [
      "\u001b[1;31m---------------------------------------------------------------------------\u001b[0m",
      "\u001b[1;31mFileNotFoundError\u001b[0m                         Traceback (most recent call last)",
      "\u001b[1;32m<ipython-input-1-384ff0acb68e>\u001b[0m in \u001b[0;36m<module>\u001b[1;34m\u001b[0m\n\u001b[0;32m      5\u001b[0m \u001b[1;31m## 읽기용도, 쓰기용도\u001b[0m\u001b[1;33m\u001b[0m\u001b[1;33m\u001b[0m\u001b[1;33m\u001b[0m\u001b[0m\n\u001b[0;32m      6\u001b[0m \u001b[1;33m\u001b[0m\u001b[0m\n\u001b[1;32m----> 7\u001b[1;33m \u001b[0mfile1\u001b[0m \u001b[1;33m=\u001b[0m \u001b[0mopen\u001b[0m\u001b[1;33m(\u001b[0m\u001b[1;34m\"student_score.txt\"\u001b[0m\u001b[1;33m,\u001b[0m\u001b[1;34m\"r\"\u001b[0m\u001b[1;33m)\u001b[0m\u001b[1;33m\u001b[0m\u001b[1;33m\u001b[0m\u001b[0m\n\u001b[0m\u001b[0;32m      8\u001b[0m \u001b[0mfile2\u001b[0m \u001b[1;33m=\u001b[0m \u001b[0mopen\u001b[0m\u001b[1;33m(\u001b[0m\u001b[1;34m\"backup.txt\"\u001b[0m\u001b[1;33m,\u001b[0m\u001b[1;34m\"w\"\u001b[0m\u001b[1;33m)\u001b[0m \u001b[1;31m# 하나의 파일의 내용을 다른 파일에 복붙하기 위한 용도로 만들어진 파일\u001b[0m\u001b[1;33m\u001b[0m\u001b[1;33m\u001b[0m\u001b[0m\n\u001b[0;32m      9\u001b[0m \u001b[1;33m\u001b[0m\u001b[0m\n",
      "\u001b[1;31mFileNotFoundError\u001b[0m: [Errno 2] No such file or directory: 'student_score.txt'"
     ]
    }
   ],
   "source": [
    "\n",
    "## python의 기본 파일처리\n",
    "\n",
    "## 먼저 파일 handle을 획득해야 해요!\n",
    "## 사용할 데이터 파일을 오픈해요!\n",
    "## 읽기용도, 쓰기용도\n",
    "\n",
    "file1 = open(\"student_score.txt\",\"r\")\n",
    "file2 = open(\"backup.txt\",\"w\") # 하나의 파일의 내용을 다른 파일에 복붙하기 위한 용도로 만들어진 파일\n",
    "\n",
    "# 학생 성적 파일에서 한줄씩 읽어와서\n",
    "# output console에 출력하고 해당 내용을 백업 파일에 저장\n",
    "\n",
    "while True:\n",
    "    line = file1.readline()\n",
    "#     print(line)   # 출력한 다음 한줄을 띈다!\n",
    "    print(line, end = \"\") # 이렇게 써주면 줄 간격 없어진다\n",
    "    if not line: # 마지막 줄 끝나면 line 없는 상황이 되기 때문 \n",
    "        break;   # 가장 가까운 반복문을 탈출\n",
    "    file2.write(line)\n",
    "\n",
    "file1.close()\n",
    "file2.close()\n",
    "\n",
    "# 아이유,92,94,99(개행문자 \\n)\n",
    "# 김연아,17,20,22(개행문자 \\n)\n",
    "\n",
    "print(type(line))\n",
    "\n",
    "\n",
    "    "
   ]
  }
 ],
 "metadata": {
  "kernelspec": {
   "display_name": "[CPU_ENV]",
   "language": "python",
   "name": "cpu_env"
  },
  "language_info": {
   "codemirror_mode": {
    "name": "ipython",
    "version": 3
   },
   "file_extension": ".py",
   "mimetype": "text/x-python",
   "name": "python",
   "nbconvert_exporter": "python",
   "pygments_lexer": "ipython3",
   "version": "3.6.9"
  }
 },
 "nbformat": 4,
 "nbformat_minor": 2
}
