{
 "cells": [
  {
   "cell_type": "code",
   "execution_count": 3,
   "metadata": {},
   "outputs": [
    {
     "name": "stdout",
     "output_type": "stream",
     "text": [
      "100 300 700\n",
      "입력받은 값은 : 100 300 700\n",
      "최종결과는 1100\n"
     ]
    }
   ],
   "source": [
    "## function ( 함수 )\n",
    "\n",
    "# a = [1,2,3,4,5,6]\n",
    "\n",
    "# ## logic활용\n",
    "# mySum = 0\n",
    "# for i in a:\n",
    "#     mySum += i\n",
    "# print(mySum)\n",
    "\n",
    "# ## 함수활용\n",
    "# mySum = sum(a)\n",
    "# print(mySum)\n",
    "\n",
    "## 숫자를 입력받아서  => 단위기능으로 간주 => 함수\n",
    "## 해당 숫자를 모두 더한 후  => 단위기능으로 간주 => 함수\n",
    "## \"결과값을 : XX 입니다.\" 형식으로 출력  => 함수\n",
    "\n",
    "## 이렇게 함수기반의 프로그래밍 방식을\n",
    "## 절차적 프로그래밍 (procedural programming)\n",
    "\n",
    "## python에서 함수는 크게 2가지로 구분\n",
    "## 내장함수( sum(), 사용자 정의함수(user define 함수))\n",
    "## 사용자 정의함수를 만드는 keyword는 def\n",
    "\n",
    "\n",
    "## 함수이름은 소문자로 시작(관용적)\n",
    "## 함수의 정의(definition) => 함수의 이름, 인자형태, 인자개수, 기능구현.\n",
    "## 함수의 선언(declaration) => 함수의 이름, 인자형태, 인자개수. \n",
    "def mySum(a,b,c):     # 함수 이름, 인자형태, 인자개수\n",
    "    total = a + b + c # 함수의 기능 구현\n",
    "    return total\n",
    "\n",
    "inputValue = input() # jupyter notebook에서 입력받는 내장함수 - 무조건 str로 받음\n",
    "# '100 200 300'\n",
    "\n",
    "# 숫자 3개를 받아보자\n",
    "print(\"입력받은 값은 : {}\".format(inputValue))\n",
    "\n",
    "var1 = inputValue.split(\" \") # 가장 만만한 리스트형식으로 분리해서 들어간다.\n",
    "\n",
    "result = mySum(int(var1[0]),int(var1[1]),int(var1[2]))\n",
    "\n",
    "print(\"최종결과는 {}\".format(result))\n"
   ]
  },
  {
   "cell_type": "code",
   "execution_count": 6,
   "metadata": {},
   "outputs": [
    {
     "name": "stdout",
     "output_type": "stream",
     "text": [
      "최종결과는 : 100\n",
      "최종결과는 : 450\n"
     ]
    }
   ],
   "source": [
    "### 함수 2번째\n",
    "\n",
    "def mySum2(*args): # args가 tuple로 간주\n",
    "                   # args => (10,20,30,40)\n",
    "    # 전달받은 모든 값들을 더해서 리턴\n",
    "    k = 0\n",
    "    for i in range(len(args)):\n",
    "        k += args[i]\n",
    "    return k\n",
    "    \n",
    "total = mySum2(10,20,30,40)\n",
    "print(\"최종결과는 : {}\".format(total))\n",
    "\n",
    "total2 = mySum2(10,20,30,40,50,60,70,80,90)\n",
    "print(\"최종결과는 : {}\".format(total2))\n"
   ]
  },
  {
   "cell_type": "code",
   "execution_count": 9,
   "metadata": {},
   "outputs": [
    {
     "name": "stdout",
     "output_type": "stream",
     "text": [
      "300 200000\n"
     ]
    }
   ],
   "source": [
    "## 함수를 하나 정의해요\n",
    "\n",
    "## 숫자 2개를 받아서 두개의 합과 두개의 곱을 리턴할꺼에요!\n",
    "\n",
    "## tuple\n",
    "# a = (10,20,30)\n",
    "# b = 10,20,30 # a와 동치\n",
    "# tuple을 이용해서 마치 여러개의 값이 리턴되는 것처럼 사용\n",
    "def multi_process(x,y):\n",
    "    result1 = x + y\n",
    "    result2 = x * y\n",
    "    return result1, result2\n",
    "    ## 데이터를 두개 리턴하는게 아니라 튜플 ,리스트 등을 리턴하는 것이다.\n",
    "    \n",
    "a,b = multi_process(100,200)\n",
    "\n",
    "a,b = (300, 200000)\n",
    "print(a,b)"
   ]
  },
  {
   "cell_type": "code",
   "execution_count": 15,
   "metadata": {},
   "outputs": [
    {
     "name": "stdout",
     "output_type": "stream",
     "text": [
      "6\n",
      "103\n"
     ]
    }
   ],
   "source": [
    "## 사용자 정의 함수를 만들자.\n",
    "## default parameter\n",
    "\n",
    "def mySum(a,b,c=100):  # 마지막 parameter default 값을 지정할 수 있다. (무조건 마지막)\n",
    "    return a+b+c\n",
    "total = mySum(1,2,3)\n",
    "print(total)\n",
    "\n",
    "total2 = mySum(1,2)\n",
    "print(total2)"
   ]
  },
  {
   "cell_type": "code",
   "execution_count": 20,
   "metadata": {},
   "outputs": [
    {
     "name": "stdout",
     "output_type": "stream",
     "text": [
      "120\n",
      "120\n"
     ]
    }
   ],
   "source": [
    "tmp = 100      # 전역변수(global variable)\n",
    "\n",
    "def myFunc(x): # 함수안에서 선언된 변수는 local variable(지역변수)\n",
    "   \n",
    "    global tmp  # local variable은 함수가 호출될 때 생성되고 (앞에 global은 전역변수를 호출하는 함수)\n",
    "    tmp += x   # local은 함수 수행이 끝나면 없어진다.\n",
    "                # 사용하지말자!\n",
    "    return tmp\n",
    "\n",
    "print(myFunc(20)) # \n",
    "print(tmp) # 100\n",
    "\n"
   ]
  },
  {
   "cell_type": "code",
   "execution_count": 56,
   "metadata": {},
   "outputs": [
    {
     "name": "stdout",
     "output_type": "stream",
     "text": [
      "123123\n",
      "43234\n"
     ]
    }
   ],
   "source": [
    "### 사용자 정의 함수는 위에서 설명한 그 방식대로\n",
    "### 이용하면 된다!\n",
    "### 프로그램 작성 시 함수를 어떻게 정의해서 사용할 것인가를\n",
    "### 고민해서 작성\n",
    "\n",
    "### 나머지는 내장함수 (python이 제공하는 함수)\n",
    "### int() : 인자를 정수로 변환\n",
    "### abs() : 절대값 return\n",
    "### all() : 인자로 반드시 반복가능한 타입이 와야함!\n",
    "###         인자로 들어온 값이 모두 True일 경우 True return => 결측치?\n",
    "### any() : 인자로 반드시 반복가능한 타입이 와야함!\n",
    "###         인자로 들어온 값 중 하나가 True일 경우 True return\n",
    "### len() : 길이구하는 내장함수\n",
    "### list() : 리스트 만들어주는 함수\n",
    "### tuple() : 튜플로 만들어주는 함수\n",
    "### str() : 문자열로 변환하는 함수\n",
    "### type() : 데이터의 type을 알려주는 함수\n",
    "### max(), min() : 최대,최소를 구하는 함수\n",
    "### sorted() : 오름차순 정렬하는 함수\n",
    "### join() : 앞에 기준으로 붙여주는 함수 --\" \".join(a)--\n",
    "\n",
    "# sum(), max(), min()\n",
    "\n",
    "# 평균 = sum()/len()\n",
    "\n",
    "\n",
    "\n",
    "\n",
    "#a = [\"이것은\", \"소리없는\", \"아우성\"]\n",
    "#print(\" \".join(a))\n",
    "\n",
    "a = [1231,123123,43234,2342]\n",
    "\n",
    "print(a[::-1][-2])\n",
    "print(a[2])"
   ]
  }
 ],
 "metadata": {
  "kernelspec": {
   "display_name": "[CPU_ENV]",
   "language": "python",
   "name": "cpu_env"
  },
  "language_info": {
   "codemirror_mode": {
    "name": "ipython",
    "version": 3
   },
   "file_extension": ".py",
   "mimetype": "text/x-python",
   "name": "python",
   "nbconvert_exporter": "python",
   "pygments_lexer": "ipython3",
   "version": "3.6.9"
  }
 },
 "nbformat": 4,
 "nbformat_minor": 2
}
