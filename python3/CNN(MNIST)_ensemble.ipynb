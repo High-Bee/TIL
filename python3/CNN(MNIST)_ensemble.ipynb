{
 "cells": [
  {
   "cell_type": "code",
   "execution_count": 15,
   "metadata": {},
   "outputs": [
    {
     "name": "stdout",
     "output_type": "stream",
     "text": [
      "Extracting ./data/mnist\\train-images-idx3-ubyte.gz\n",
      "Extracting ./data/mnist\\train-labels-idx1-ubyte.gz\n",
      "Extracting ./data/mnist\\t10k-images-idx3-ubyte.gz\n",
      "Extracting ./data/mnist\\t10k-labels-idx1-ubyte.gz\n"
     ]
    }
   ],
   "source": [
    "# 지금까지 배운 내용을 기초로 tensorflow의 mnist example을\n",
    "# CNN으로 구현해 보아요\n",
    "\n",
    "import tensorflow as tf\n",
    "from tensorflow.examples.tutorials.mnist import input_data\n",
    "\n",
    "# Data loading\n",
    "mnist = input_data.read_data_sets(\"./data/mnist\", one_hot=True)\n",
    "\n",
    "# 전처리 단계 (결측치, 이상치, 정규화, feature engineering)\n",
    "# mnist예제에서는 이미 전처리가 끝난 상태라서 따로 할게 없다!\n",
    "\n",
    "# Model 정의\n",
    "tf.reset_default_graph()\n",
    "\n",
    "# 1. placeholder\n",
    "X = tf.placeholder(shape=[None, 784], dtype=tf.float32)\n",
    "Y = tf.placeholder(shape=[None, 10], dtype=tf.float32)\n",
    "dropout_rate = tf.placeholder(dtype=tf.float32)\n",
    "\n",
    "# 버전에 따라 1.5 => keep_prob = 0.8  살리는 비율\n",
    "#                  rate = 0.2 죽이는 비율\n",
    "\n",
    "# 2. Convolution Layer\n",
    "x_img = tf.reshape(X, [-1,28,28,1])\n",
    "L1 = tf.layers.conv2d(inputs=x_img, filters=32,\n",
    "                         kernel_size=[3,3], padding=\"SAME\",\n",
    "                         strides=1, activation=tf.nn.relu)\n",
    "\n",
    "L1 = tf.layers.max_pooling2d(inputs=L1, pool_size=[2,2],\n",
    "                                padding=\"SAME\",\n",
    "                                strides=2)\n",
    "\n",
    "L1 = tf.layers.dropout(inputs=L1, rate=dropout_rate)\n",
    "\n",
    "# W1 = tf.Variable(tf.random_normal([3,3,1,32])) # filter \n",
    "# L1 = tf.nn.conv2d(x_img, W1, strides=[1,1,1,1], # CNN(합성곱)\n",
    "#                              padding=\"SAME\")\n",
    "# L1 = tf.nn.relu(L1)                              # relu\n",
    "# L1 = tf.nn.max_pool(L1, ksize=[1,2,2,1], strides=[1,2,2,1],\n",
    "#                                            padding=\"SAME\")\n",
    "\n",
    "L2 = tf.layers.conv2d(inputs=L1, filters=64,\n",
    "                         kernel_size=[3,3],  padding=\"SAME\",\n",
    "                         strides=1, activation=tf.nn.relu)\n",
    "L2 = tf.layers.max_pooling2d(inputs=L2, pool_size=[2,2],\n",
    "                                padding=\"SAME\",\n",
    "                                strides=2)\n",
    "\n",
    "L2 = tf.layers.dropout(inputs=L2, rate=dropout_rate)\n",
    "\n",
    "## W2 = tf.Variable(tf.random_normal([3,3,32,64]))\n",
    "## L2 = tf.nn.conv2d(L1, W2, strides=[1,1,1,1],\n",
    "##                              padding=\"SAME\")\n",
    "## L2 = tf.nn.relu(L2)\n",
    "## L2 = tf.nn.max_pool(L2, ksize=[1,2,2,1], strides=[1,2,2,1],\n",
    "##                                            padding=\"SAME\")\n",
    "\n",
    "\n",
    "# 3. FC Layer (= Dense Layer) \n",
    "# Dense Layer 로 바꾸자\n",
    "\n",
    "L2 = tf.reshape(L2,[-1, 7*7*64])\n",
    "\n",
    "Dense1 = tf.layers.dense(inputs=L2, units=256,\n",
    "                            activation=tf.nn.relu) # 밑에 3줄을 한번에 처리\n",
    "Dense1 = tf.layers.dropout(inputs=Dense1, rate=dropout_rate)\n",
    "\n",
    "# W3 = tf.get_variable(\"weight3\", shape=[7*7*64, 256],\n",
    "#                         initializer=tf.contrib.layers.xavier_initializer())\n",
    "# b3 = tf.Variable(tf.random_normal([256]), name=\"bias3\")\n",
    "# _layer1 = tf.nn.relu(tf.matmul(L2, W3)+b3)\n",
    "# layer1 = tf.nn.dropout(_layer1, keep_prob=dropout_rate)\n",
    "\n",
    "Dense2 = tf.layers.dense(inputs=Dense1, units=128,\n",
    "                            activation=tf.nn.relu) # 밑에 3줄을 한번에 처리\n",
    "Dense2 = tf.layers.dropout(inputs=Dense2, rate=dropout_rate)\n",
    "\n",
    "# W4 = tf.get_variable(\"weight4\", shape=[256,512],\n",
    "#                         initializer=tf.contrib.layers.xavier_initializer())\n",
    "# b4 = tf.Variable(tf.random_normal([512]), name=\"bias4\")\n",
    "# _layer2 = tf.nn.relu(tf.matmul(layer1, W4)+b4)\n",
    "# layer2 = tf.nn.dropout(_layer2, keep_prob=dropout_rate)\n",
    "\n",
    "Dense3 = tf.layers.dense(inputs=Dense2, units=512,\n",
    "                            activation=tf.nn.relu) # 밑에 3줄을 한번에 처리\n",
    "Dense3 = tf.layers.dropout(inputs=Dense3, rate=dropout_rate)\n",
    "\n",
    "H = tf.layers.dense(inputs=Dense3, units=10) # H를 한번에 만들어 버린다\n",
    "\n",
    "# W5 = tf.get_variable(\"weight5\", shape=[512,10],\n",
    "#                         initializer=tf.contrib.layers.xavier_initializer())\n",
    "# b5 = tf.Variable(tf.random_normal([10]), name=\"bias5\")\n",
    "\n",
    "# # H\n",
    "# logit = tf.matmul(layer2, W5)+b5\n",
    "# H = tf.nn.softmax(logit)\n",
    "\n",
    "# cost function\n",
    "cost = tf.losses.softmax_cross_entropy(Y, H) # 순서가 바뀐다\n",
    "# cost = tf.reduce_mean(tf.nn.softmax_cross_entropy_with_logits_v2(logits = logit,\n",
    "#                                                                    labels = Y))\n",
    "\n",
    "#\n",
    "train = tf.train.AdamOptimizer(learning_rate=0.01).minimize(cost)\n",
    "\n",
    "#\n",
    "sess = tf.Session()\n",
    "sess.run(tf.global_variables_initializer())\n",
    "\n"
   ]
  },
  {
   "cell_type": "code",
   "execution_count": 2,
   "metadata": {},
   "outputs": [
    {
     "data": {
      "text/plain": [
       "'1.5.0'"
      ]
     },
     "execution_count": 2,
     "metadata": {},
     "output_type": "execute_result"
    }
   ],
   "source": [
    "tf.__version__\n"
   ]
  }
 ],
 "metadata": {
  "kernelspec": {
   "display_name": "[CPU_ENV]",
   "language": "python",
   "name": "cpu_env"
  },
  "language_info": {
   "codemirror_mode": {
    "name": "ipython",
    "version": 3
   },
   "file_extension": ".py",
   "mimetype": "text/x-python",
   "name": "python",
   "nbconvert_exporter": "python",
   "pygments_lexer": "ipython3",
   "version": "3.6.9"
  }
 },
 "nbformat": 4,
 "nbformat_minor": 2
}
