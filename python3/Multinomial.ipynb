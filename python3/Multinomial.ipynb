{
 "cells": [
  {
   "cell_type": "markdown",
   "metadata": {},
   "source": [
    "### Logistic Regression을 그림으로 알아보자!\n"
   ]
  },
  {
   "cell_type": "code",
   "execution_count": 4,
   "metadata": {},
   "outputs": [],
   "source": [
    "import pandas as pd\n",
    "import numpy as np\n",
    "import matplotlib.pyplot as plt\n",
    "import tensorflow as tf\n",
    "import warnings\n",
    "from sklearn.linear_model import LogisticRegression\n",
    "import mglearn\n"
   ]
  },
  {
   "cell_type": "code",
   "execution_count": 35,
   "metadata": {},
   "outputs": [
    {
     "name": "stdout",
     "output_type": "stream",
     "text": [
      "Cost 값은 2.863301992416382\n",
      "Cost 값은 0.27753087878227234\n",
      "Cost 값은 0.2631648778915405\n",
      "Cost 값은 0.2581658661365509\n",
      "Cost 값은 0.2558729350566864\n",
      "Cost 값은 0.2545683681964874\n",
      "Cost 값은 0.2536725699901581\n",
      "Cost 값은 0.25295934081077576\n",
      "Cost 값은 0.25233232975006104\n",
      "Cost 값은 0.25174811482429504\n",
      "[1]\n"
     ]
    },
    {
     "data": {
      "image/png": "[encoded data removed]",
      "text/plain": [
       "<Figure size 432x288 with 1 Axes>"
      ]
     },
     "metadata": {},
     "output_type": "display_data"
    }
   ],
   "source": [
    "warnings.filterwarnings(action=\"ignore\") # warning출력을 배제\n",
    "\n",
    "x, y = mglearn.datasets.make_forge()\n",
    "\n",
    "# 먼저 간단하게 산점도(scatter)를 그려 보자.\n",
    "\n",
    "# y값이 0인 x를 추출해서 x의 첫번째 컬럼을 x축으로, \n",
    "# x의 두번째 컬럼을 y축으로 산점도를 그려보자.\n",
    "blue = x[y == 0]\n",
    "plt.scatter(blue[:,0],blue[:,1]) \n",
    "\n",
    "orange = x[y == 1]\n",
    "plt.scatter(orange[:,0],orange[:,1]) \n",
    "\n",
    "## machine learning (Logistic Regression)\n",
    "# train data set (연습용이니 test data set은 넘어가자.)\n",
    "train_x_data = x\n",
    "train_y_data = y.reshape(-1,1)\n",
    "\n",
    "# placeholder\n",
    "X = tf.placeholder(shape=[None,2], dtype=tf.float32)\n",
    "Y = tf.placeholder(shape=[None,1], dtype=tf.float32)\n",
    "\n",
    "# Weight & bias\n",
    "W = tf.Variable(tf.random_normal([2,1]), name=\"weight\")\n",
    "b = tf.Variable(tf.random_normal([1]), name=\"bias\")\n",
    "\n",
    "# Hypothesis\n",
    "logit = tf.matmul(X, W) + b\n",
    "H = tf.sigmoid(logit)\n",
    "\n",
    "# Cost(loss) function\n",
    "cost = tf.reduce_mean(tf.nn.sigmoid_cross_entropy_with_logits(logits = logit,\n",
    "                                                                 labels = Y))\n",
    "\n",
    "# train node\n",
    "optimizer = tf.train.GradientDescentOptimizer(learning_rate=0.01)\n",
    "train = optimizer.minimize(cost) # 굳이 optimizer 만들지 않고 여기 opt에 넣어서 축약하자!\n",
    "\n",
    "# session, 초기화\n",
    "sess = tf.Session()\n",
    "sess.run(tf.global_variables_initializer())\n",
    "\n",
    "# 학습\n",
    "for step in range(3000):\n",
    "    _, cost_val = sess.run([train, cost], feed_dict = { X : train_x_data,\n",
    "                                                          Y : train_y_data})\n",
    "    if step % 300 == 0:\n",
    "        print(f\"Cost 값은 {cost_val}\")\n",
    "        \n",
    "        \n",
    "# 정확도 측정(Accuracy)\n",
    "# skip : if 95% 이상 나오면 쓸만한 model\n",
    "\n",
    "# Prediction(예측)\n",
    "result = sess.run(H, feed_dict={ X : [[9,4]]})\n",
    "result # 결과값 : 0.834....\n",
    "\n",
    "plt.scatter(9,4)\n",
    "\n",
    "# sklearn 모델생성\n",
    "model = LogisticRegression()\n",
    "myModel = model.fit(x,y) # logistic model 학습\n",
    "print(myModel.predict([[9,4]])) # 결과값 : [1]\n",
    "mglearn.plots.plot_2d_separator(myModel, x, fill=False, \n",
    "                                eps=0.5, alpha=0.7) \n",
    "\n",
    "# 1과 0을 나누는 기준을 (선)을 긋는다. # Hyperplane"
   ]
  },
  {
   "cell_type": "code",
   "execution_count": 37,
   "metadata": {},
   "outputs": [
    {
     "data": {
      "text/plain": [
       "<matplotlib.collections.PathCollection at 0x1d535929b00>"
      ]
     },
     "execution_count": 37,
     "metadata": {},
     "output_type": "execute_result"
    },
    {
     "data": {
      "image/png": "[encoded data removed]",
      "text/plain": [
       "<Figure size 432x288 with 1 Axes>"
      ]
     },
     "metadata": {
      "needs_background": "light"
     },
     "output_type": "display_data"
    }
   ],
   "source": [
    "# Logistic을 multinomial로 확장해 보자!\n",
    "# x쪽 데이터는 시험성적과 출석점수 \n",
    "# y쪽 데이터는 학점\n",
    "x = np.array([[10, 5],\n",
    "               [9, 5],\n",
    "               [5, 1],\n",
    "               [4, 2],\n",
    "               [1, 3]])\n",
    "\n",
    "y = np.array([[\"A\"],\n",
    "              [\"A\"],\n",
    "              [\"B\"],\n",
    "              [\"B\"],\n",
    "              [\"C\"]])\n",
    "\n",
    "plt.scatter(x[0:2, 0],x[0:2, 1]) # A등급의 점을 찍어보자.\n",
    "plt.scatter(x[2:4, 0],x[2:4, 1]) # B등급의 점을 찍어보자.\n",
    "plt.scatter(x[4, 0],x[4, 1]) # C등급의 점을 찍어보자.\n",
    "\n"
   ]
  },
  {
   "cell_type": "code",
   "execution_count": 46,
   "metadata": {},
   "outputs": [
    {
     "name": "stdout",
     "output_type": "stream",
     "text": [
      "Cost 값 : 8.066079139709473\n",
      "Cost 값 : 1.849338412284851\n",
      "Cost 값 : 1.371898889541626\n",
      "Cost 값 : 1.095597505569458\n",
      "Cost 값 : 0.8455120325088501\n",
      "Cost 값 : 0.5786193609237671\n",
      "Cost 값 : 0.05026910826563835\n",
      "Cost 값 : 0.04567387327551842\n",
      "Cost 값 : 0.042345963418483734\n",
      "Cost 값 : 0.0396796278655529\n",
      "정확도 : 1.0\n"
     ]
    }
   ],
   "source": [
    "import tensorflow as tf\n",
    "\n",
    "# one-hot encoding\n",
    "# Y label을 string으로 표현할 수 없으니 이런 표현방법을 통해 Y label 만들어 준다!\n",
    "# 고양이\t강아지\t호랑이\n",
    "# 0 \t 1  \t0\n",
    "# 1 \t 0  \t0\n",
    "# 0 \t 0  \t1\n",
    "\n",
    "\n",
    "# train data set\n",
    "train_x_data = [[10,7,8,5],\n",
    "                [8,8,9,4],\n",
    "                [7,8,2,3],\n",
    "                [6,3,9,3],\n",
    "                [7,5,7,4],\n",
    "                [3,5,6,2],\n",
    "                [2,4,3,1]]\n",
    "\n",
    "train_y_data = [[1,0,0],\n",
    "                [1,0,0],\n",
    "                [0,1,0],\n",
    "                [0,1,0],\n",
    "                [0,1,0],\n",
    "                [0,0,1],\n",
    "                [0,0,1]]\n",
    "\n",
    "# placeholder\n",
    "X = tf.placeholder(shape=[None,4], dtype=tf.float32)\n",
    "Y = tf.placeholder(shape=[None,3], dtype=tf.float32)\n",
    "\n",
    "# Weight & bias\n",
    "W = tf.Variable(tf.random_normal([4,3]), name=\"weight\")\n",
    "b = tf.Variable(tf.random_normal([3]), name=\"bias\")\n",
    "\n",
    "# Hypothesis\n",
    "logit = tf.matmul(X,W) + b\n",
    "H = tf.nn.softmax(logit) # sigmoid 에서 softmax로 변경!!!!!\n",
    "\n",
    "# Cost(loss) Function\n",
    "cost = tf.reduce_mean(tf.nn.softmax_cross_entropy_with_logits_v2(logits=logit,\n",
    "                                                                    labels=Y))\n",
    "\n",
    "# train node\n",
    "train = tf.train.GradientDescentOptimizer(learning_rate=0.1).minimize(cost)\n",
    "\n",
    "# session & 초기화\n",
    "sess = tf.Session()\n",
    "sess.run(tf.global_variables_initializer())\n",
    "\n",
    "# 학습\n",
    "for step in range(3000):\n",
    "    _, cost_val = sess.run([train, cost], feed_dict={ X : train_x_data,\n",
    "                                                        Y : train_y_data})\n",
    "    if step % 300 == 0:\n",
    "        print(f\"Cost 값 : {cost_val}\")\n",
    "\n",
    "# Accuracy (정확도)\n",
    "# sess.run(H, feed_dict = { X : [[10,8,9,5]]}) # 임의값으로 예측결과 확인해보기\n",
    "# array([[9.9095786e-01, 9.0419911e-03, 6.2689011e-08]], dtype=float32)\n",
    "\n",
    "predict = tf.argmax(H, axis=1) # 가장 큰값의 index번호를 리턴\n",
    "correct = tf.equal(predict, tf.argmax(Y, axis=1))\n",
    "\n",
    "# sample 데이터여서 기존의 결과로 정홛도를 확인 => 1.0 나오는게 당연!\n",
    "accuracy = tf.reduce_mean(tf.cast(correct, dtype=tf.float32))\n",
    "print(\"정확도 : {}\".format(sess.run(accuracy, feed_dict = { X : train_x_data,\n",
    "                                                           Y : train_y_data})))\n",
    "\n"
   ]
  },
  {
   "cell_type": "markdown",
   "metadata": {},
   "source": [
    "## BMI 데이터를 학습한 후 자신의 키와 몸무게를 넣어서 확인헤보자.\n",
    "## 상태를 확인하기 위해 bmi.csv 파일 가져와서 해결해보자"
   ]
  },
  {
   "cell_type": "code",
   "execution_count": 3,
   "metadata": {},
   "outputs": [],
   "source": [
    "# library load\n",
    "import pandas as pd\n",
    "import numpy as np\n",
    "import matplotlib.pyplot as plt\n",
    "import tensorflow as tf\n",
    "import warnings\n",
    "from sklearn.linear_model import LogisticRegression\n",
    "from sklearn.preprocessing import MinMaxScaler"
   ]
  },
  {
   "cell_type": "code",
   "execution_count": 53,
   "metadata": {},
   "outputs": [
    {
     "name": "stdout",
     "output_type": "stream",
     "text": [
      "Cost 값 : 1.2941728830337524\n",
      "Cost 값 : 0.3616917133331299\n",
      "Cost 값 : 0.2839779853820801\n",
      "Cost 값 : 0.24556522071361542\n",
      "Cost 값 : 0.22129392623901367\n",
      "Cost 값 : 0.20408686995506287\n",
      "Cost 값 : 0.1910295933485031\n",
      "Cost 값 : 0.18066242337226868\n",
      "Cost 값 : 0.17216189205646515\n",
      "Cost 값 : 0.16501976549625397\n"
     ]
    }
   ],
   "source": [
    "bmi = pd.read_csv(\"./data/bmi.csv\", skiprows=3)\n",
    "bmi.head()\n",
    "bmi.tail()\n",
    "\n",
    "# train data set 범위\n",
    "bmi.shape\n",
    "bmi_num = int(bmi.shape[0] * 0.8)\n",
    "bmi_num    \n",
    "\n",
    "# label을 one hot encoding 변환\n",
    "# numpy 이용\n",
    "# Y_lab = np.unique(bmi[\"label\"], axis=0)\n",
    "# y_data=np.eye(Y_lab.shape[0])[bmi[\"label\"]]\n",
    "# train_y_data=y_data[bmi_num:]\n",
    "\n",
    "# pandas.get_dummies()\n",
    "# y_data = pd.get_dummies(bmi[\"label\"])\n",
    "\n",
    "# tensorflow.one_hot()\n",
    "y_data = tf.one_hot(bmi[\"label\"], 3)\n",
    "sess = tf.Session()\n",
    "y_data = sess.run(y_data)\n",
    "\n",
    "\n",
    "# minmaxscaler 이용하기\n",
    "scl = MinMaxScaler()\n",
    "scl.fit(bmi[[\"height\",\"weight\"]])\n",
    "\n",
    "\n",
    "# train data set\n",
    "train_x_data = scl.fit_transform(bmi[[\"height\",\"weight\"]])[:bmi_num]\n",
    "train_y_data = y_data[:bmi_num]\n",
    "\n",
    "\n",
    "# placeholder\n",
    "X = tf.placeholder(shape=[None,2], dtype=tf.float32)\n",
    "Y = tf.placeholder(shape=[None,3], dtype=tf.float32)\n",
    "\n",
    "# Weight & bias\n",
    "W = tf.Variable(tf.random_normal([2,3]), name=\"weight\")\n",
    "b = tf.Variable(tf.random_normal([3]), name=\"bias\")\n",
    "\n",
    "# Hypothesis\n",
    "logit = tf.matmul(X,W) + b\n",
    "H = tf.nn.softmax(logit)\n",
    "\n",
    "# Cost Function\n",
    "cost = tf.reduce_mean(tf.nn.softmax_cross_entropy_with_logits_v2(logits = logit,\n",
    "                                                                    labels = Y))\n",
    "\n",
    "# train node 생성\n",
    "train = tf.train.GradientDescentOptimizer(learning_rate=0.1).minimize(cost)\n",
    "\n",
    "\n",
    "# session & 초기화\n",
    "sess = tf.Session()\n",
    "sess.run(tf.global_variables_initializer())\n",
    "\n",
    "# 학습\n",
    "\n",
    "for step in range(30000):\n",
    "    _, cost_val = sess.run([train, cost], feed_dict={ X : train_x_data,\n",
    "                                                        Y : train_y_data})\n",
    "    if step % 3000 == 0:\n",
    "        print(f\"Cost 값 : {cost_val}\")\n",
    "        \n",
    "# test data set 만들기\n",
    "test_x_data = MinMaxScaler().fit_transform(bmi[[\"height\",\"weight\"]])[bmi_num:]\n",
    "test_y_data = y_data[bmi_num:]\n",
    "\n"
   ]
  },
  {
   "cell_type": "code",
   "execution_count": 54,
   "metadata": {},
   "outputs": [
    {
     "name": "stdout",
     "output_type": "stream",
     "text": [
      "정확도 : 0.9797499775886536\n"
     ]
    },
    {
     "data": {
      "text/plain": [
       "array([1], dtype=int64)"
      ]
     },
     "execution_count": 54,
     "metadata": {},
     "output_type": "execute_result"
    }
   ],
   "source": [
    "# 정확도 측정\n",
    "\n",
    "predict = tf.argmax(H, axis=1) # 가장 큰값의 index번호를 리턴\n",
    "correct = tf.equal(predict, tf.argmax(Y, axis=1))\n",
    "accuracy = tf.reduce_mean(tf.cast(correct, dtype=tf.float32))\n",
    "print(\"정확도 : {}\".format(sess.run(accuracy, feed_dict={X:test_x_data,\n",
    "                                                        Y:test_y_data})))\n",
    "# 나의 정보 확인\n",
    "myinfo = scl.transform([[181,75]])\n",
    "sess.run(tf.argmax(H, axis=1), feed_dict={X : myinfo})"
   ]
  },
  {
   "cell_type": "code",
   "execution_count": 56,
   "metadata": {
    "scrolled": true
   },
   "outputs": [
    {
     "name": "stdout",
     "output_type": "stream",
     "text": [
      "3\n",
      "180 55\n",
      "너무마르셨네요.\n",
      "171 55\n",
      "보기 좋습니다.\n",
      "190 55\n",
      "너무마르셨네요.\n"
     ]
    }
   ],
   "source": [
    "T = int(input())\n",
    "for _ in range(T):\n",
    "    a = list(map(int, input().split()))\n",
    "    scl.fit(bmi[[\"height\",\"weight\"]])\n",
    "    myinfo = scl.transform([a])\n",
    "    check_body = sess.run(tf.argmax(H, axis=1), feed_dict={X : myinfo})\n",
    "\n",
    "    if check_body[0] == 0:\n",
    "        print(\"너무마르셨네요.\")\n",
    "    elif check_body[0] == 1:\n",
    "        print(\"보기 좋습니다.\")\n",
    "    else:\n",
    "        print(\"이럴시간이 없습니다.운동하세요 덜먹으시던가\")\n",
    "    \n"
   ]
  },
  {
   "cell_type": "code",
   "execution_count": 57,
   "metadata": {},
   "outputs": [
    {
     "name": "stdout",
     "output_type": "stream",
     "text": [
      "3\n",
      "180 55\n",
      "너무마르셨네요.\n",
      "171 66\n",
      "보기 좋습니다.\n",
      "191 100\n",
      "이럴시간이 없습니다.운동하세요 덜먹으시던가\n"
     ]
    }
   ],
   "source": [
    "T = int(input())\n",
    "for _ in range(T):\n",
    "    q, p = map(int, input().split())\n",
    "    scl.fit(bmi[[\"height\",\"weight\"]])\n",
    "    myinfo = scl.transform([[q,p]])\n",
    "    check_body = sess.run(tf.argmax(H, axis=1), feed_dict={X : myinfo})\n",
    "\n",
    "    if check_body[0] == 0:\n",
    "        print(\"너무마르셨네요.\")\n",
    "    elif check_body[0] == 1:\n",
    "        print(\"보기 좋습니다.\")\n",
    "    else:\n",
    "        print(\"이럴시간이 없습니다.운동하세요 덜먹으시던가\")\n",
    "    "
   ]
  }
 ],
 "metadata": {
  "kernelspec": {
   "display_name": "[CPU_ENV]",
   "language": "python",
   "name": "cpu_env"
  },
  "language_info": {
   "codemirror_mode": {
    "name": "ipython",
    "version": 3
   },
   "file_extension": ".py",
   "mimetype": "text/x-python",
   "name": "python",
   "nbconvert_exporter": "python",
   "pygments_lexer": "ipython3",
   "version": "3.6.9"
  }
 },
 "nbformat": 4,
 "nbformat_minor": 2
}
