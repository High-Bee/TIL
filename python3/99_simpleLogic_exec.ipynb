{
 "cells": [
  {
   "cell_type": "code",
   "execution_count": null,
   "metadata": {},
   "outputs": [],
   "source": [
    "### 문제 1.\n",
    "### 10보다 작은 자연수 중에서 3 또는 5의 배수는?\n",
    "### 3, 5, 6, 9 존재 이것들의 합은 23입니다.\n",
    "\n",
    "### 1000보다 작은 자연수 중에서 3, 5의 배수들을 구해 모두 합하면 얼마 입니까.\n",
    "k=1\n",
    "# if k in range(10):\n",
    "#     k % 3 == 0 \n",
    "#     print(\"3의 배수 입니다. {}\".format(k))\n",
    "# else:\n",
    "#     k % 5 == 0 \n",
    "#     print(\"5의 배수 입니다. {}\".format(k))\n",
    "    \n",
    "for k in range(1000):\n",
    "    if k % 3 == 0:    \n",
    "        print(\"{}\".format(k))\n",
    "    else k % 5 == 0:\n",
    "        print(\"{}\".format(k))\n",
    "    \n",
    "\n",
    "    "
   ]
  },
  {
   "cell_type": "code",
   "execution_count": 105,
   "metadata": {
    "scrolled": true
   },
   "outputs": [
    {
     "name": "stdout",
     "output_type": "stream",
     "text": [
      "1 = t, 2 = n, 2 = a\n",
      "2 = t, 3 = n, 3 = a\n",
      "3 = t, 5 = n, 5 = a\n",
      "5 = t, 8 = n, 8 = a\n",
      "8 = t, 13 = n, 13 = a\n",
      "13 = t, 21 = n, 21 = a\n",
      "21 = t, 34 = n, 34 = a\n",
      "34 = t, 55 = n, 55 = a\n",
      "55 = t, 89 = n, 89 = a\n",
      "89 = t, 144 = n, 144 = a\n",
      "144 = t, 233 = n, 233 = a\n",
      "233 = t, 377 = n, 377 = a\n",
      "377 = t, 610 = n, 610 = a\n",
      "610 = t, 987 = n, 987 = a\n",
      "987 = t, 1597 = n, 1597 = a\n",
      "1597 = t, 2584 = n, 2584 = a\n",
      "2584 = t, 4181 = n, 4181 = a\n",
      "4181 = t, 6765 = n, 6765 = a\n",
      "6765 = t, 10946 = n, 10946 = a\n",
      "10946 = t, 17711 = n, 17711 = a\n",
      "17711 = t, 28657 = n, 28657 = a\n",
      "28657 = t, 46368 = n, 46368 = a\n",
      "46368 = t, 75025 = n, 75025 = a\n",
      "75025 = t, 121393 = n, 121393 = a\n",
      "121393 = t, 196418 = n, 196418 = a\n",
      "196418 = t, 317811 = n, 317811 = a\n",
      "317811 = t, 514229 = n, 514229 = a\n",
      "514229 = t, 832040 = n, 832040 = a\n",
      "832040 = t, 1346269 = n, 1346269 = a\n",
      "1346269 = t, 2178309 = n, 2178309 = a\n",
      "2178309 = t, 3524578 = n, 3524578 = a\n",
      "3524578 = t, 5702887 = n, 5702887 = a\n",
      "5702887 = t, 9227465 = n, 9227465 = a\n"
     ]
    }
   ],
   "source": [
    "### 문제 2. \n",
    "### 피보나치 수열의 각항은 바로 앞의 항 2개를 더한 것이 된다!\n",
    "### 1과 2로 시작하는 피보나치 수열은 \n",
    "### 1,2,3,5,8,13,21,34,......\n",
    "\n",
    "### 짝수이면서 4백만 이하의 모든 항을 더하면 얼마인가요\n",
    "\n",
    "t = 1\n",
    "n = 1\n",
    "ta = 0\n",
    "\n",
    "while t < 4000001:\n",
    "    a = t + n\n",
    "    t = n\n",
    "    n = a\n",
    "    print(\"{} = t, {} = n, {} = a\".format(t,n,a))    \n",
    "\n",
    "    if t <= 4000000:\n",
    "        if t % 2 == 0:\n",
    "            ta = t + ta\n",
    "            \n",
    "    else:\n",
    "        pass\n",
    "        \n",
    "#print(ta)\n",
    "\n",
    "\n",
    "\n",
    "\n",
    "#     if t in range(4000001):\n",
    "#         t % 2 == 0\n",
    "#         print(\"{}\".format(sum(t)))\n",
    "#     else:\n",
    "#         pass\n"
   ]
  },
  {
   "cell_type": "code",
   "execution_count": 107,
   "metadata": {
    "scrolled": true
   },
   "outputs": [
    {
     "name": "stdout",
     "output_type": "stream",
     "text": [
      "[1, 2]\n"
     ]
    },
    {
     "ename": "IndexError",
     "evalue": "list index out of range",
     "output_type": "error",
     "traceback": [
      "\u001b[1;31m---------------------------------------------------------------------------\u001b[0m",
      "\u001b[1;31mIndexError\u001b[0m                                Traceback (most recent call last)",
      "\u001b[1;32m<ipython-input-107-834663c2f01a>\u001b[0m in \u001b[0;36m<module>\u001b[1;34m\u001b[0m\n\u001b[0;32m      4\u001b[0m     \u001b[0mmyList\u001b[0m\u001b[1;33m.\u001b[0m\u001b[0mappend\u001b[0m\u001b[1;33m(\u001b[0m\u001b[0mmyList\u001b[0m\u001b[1;33m[\u001b[0m\u001b[1;33m-\u001b[0m\u001b[1;36m1\u001b[0m\u001b[1;33m]\u001b[0m \u001b[1;33m+\u001b[0m \u001b[0mmyList\u001b[0m\u001b[1;33m[\u001b[0m\u001b[1;33m-\u001b[0m\u001b[1;36m2\u001b[0m\u001b[1;33m]\u001b[0m\u001b[1;33m)\u001b[0m\u001b[1;33m\u001b[0m\u001b[1;33m\u001b[0m\u001b[0m\n\u001b[0;32m      5\u001b[0m \u001b[1;33m\u001b[0m\u001b[0m\n\u001b[1;32m----> 6\u001b[1;33m     \u001b[1;32mif\u001b[0m \u001b[0mmyList\u001b[0m\u001b[1;33m[\u001b[0m\u001b[0mi\u001b[0m\u001b[1;33m]\u001b[0m \u001b[1;33m%\u001b[0m \u001b[1;36m2\u001b[0m \u001b[1;33m==\u001b[0m \u001b[1;36m0\u001b[0m\u001b[1;33m:\u001b[0m\u001b[1;33m\u001b[0m\u001b[1;33m\u001b[0m\u001b[0m\n\u001b[0m\u001b[0;32m      7\u001b[0m         \u001b[0mmyList\u001b[0m \u001b[1;33m+=\u001b[0m \u001b[0mmyList\u001b[0m\u001b[1;33m\u001b[0m\u001b[1;33m\u001b[0m\u001b[0m\n",
      "\u001b[1;31mIndexError\u001b[0m: list index out of range"
     ]
    }
   ],
   "source": [
    "myList = [1,2] # list에 더한 결과를 추가하면서 수열 완성\n",
    "print(myList)\n",
    "while myList[-1] <= 4000000:\n",
    "    myList.append(myList[-1] + myList[-2])\n",
    "    \n",
    "    if myList[i] % 2 == 0:\n",
    "        myList += myList"
   ]
  },
  {
   "cell_type": "code",
   "execution_count": 717,
   "metadata": {},
   "outputs": [
    {
     "name": "stdout",
     "output_type": "stream",
     "text": [
      "{1}\n",
      "<class 'set'>\n"
     ]
    }
   ],
   "source": [
    "# ## 문제 3.\n",
    "# ## 알파벳 대소문자로 되어있는 문자열이 주어진다.\n",
    "# ## 이 문자열에서 가장 많이 사용되는 알파벳이 무었인지 \n",
    "# ## 출력하는 프로그램 작성.\n",
    "# ## 단 대소문자 구문 x 동률이 존재한다면 알파뱃 순서대로 출력\n",
    "# ## 공백제외\n",
    "\n",
    "# ## \"This is a sample Program. mississippi river\"\n",
    "# i=1\n",
    "# n = []\n",
    "# c = []\n",
    "# d = 0\n",
    "# a = \"This is a sample Program. mississippi river\"\n",
    "# a.upper()\n",
    "\n",
    "\n",
    "# # for i in a[-1]:\n",
    "# #     c = a.count(a[i])\n",
    "# #     print(c)\n",
    "\n",
    "# # import collections\n",
    "# # # c.count()\n",
    "# # a = a.replace(\" \",\"\")\n",
    "# # c = a.upper()\n",
    "# # d=list(c)\n",
    "\n",
    "# # print(sorted(d))\n",
    "\n",
    "# i=1\n",
    "# x = \"This is a sample Program. mississippi river\"\n",
    "\n",
    "# # def findcha(x):\n",
    "    \n",
    "# t = x.replace(\" \",\"\")\n",
    "# t = x.upper()\n",
    "# re_x = t\n",
    "# xlist = []\n",
    "# print(t)\n",
    "# print(t.count(a))\n",
    "# print(len(t))\n",
    "# for i in len(t):\n",
    "#     xlist.append(t.count(i))\n",
    "#     print(\"최빈값{},  알파뱃{}\".format(re_x[xlist.index(max(xlist))],max(xlist)))\n",
    "    \n",
    "# # findcha(\"This is a sample Program. mississippi river\")\n",
    "\n",
    "\n",
    "# # for i in range(len(a)):\n",
    "# #     c.count(i)\n",
    "\n",
    "\n",
    "\n",
    "# # for i in range(len(a)):\n",
    "# #     a.index(max(a.count(i)))\n",
    "# #     print(\"{}\".format(a))\n",
    "    \n",
    "    \n",
    "\n",
    "t = set([1,3,7])\n",
    "p = set([3,7,8])\n",
    "u = t-p\n",
    "print(u)\n",
    "print(type(u))\n",
    "\n",
    "# # for i in a[-1]:\n",
    "# #     max(a.count(a[i])) == a.count(a[i]) \n",
    "# #     d = max(n)\n",
    "# #     print(\"{}\".format(c))\n",
    "\n"
   ]
  },
  {
   "cell_type": "code",
   "execution_count": 74,
   "metadata": {
    "scrolled": false
   },
   "outputs": [
    {
     "name": "stdout",
     "output_type": "stream",
     "text": [
      "[14, 24, 28, 40, 41, 42, 45]\n",
      "40\n",
      "꽝\n",
      "5등-번호[27, 28, 33, 41, 43, 45]\n",
      "꽝\n",
      "꽝\n",
      "꽝\n",
      "[{36, 37, 7, 16, 26, 28}, {33, 41, 43, 45, 27, 28}, {1, 2, 38, 12, 17, 21}, {33, 7, 41, 43, 23, 26}, {1, 3, 12, 20, 23, 31}]\n",
      "40\n",
      "당첨번호 {41, 42, 45, 14, 24, 28} 보너스 번호 40\n"
     ]
    }
   ],
   "source": [
    "## 문제 4:\n",
    "\n",
    "## 로또 프로그램을 작성\n",
    "## 5천원으로 로또복권 5장을 자동으로 구매\n",
    "## 이번주 로또 당첨번호를 생성하여 구매한 로또가 당첨이\n",
    "## 되었는지 확인\n",
    "## 쉬운버전부터 해보자 -> 보너스 번호 없는 것\n",
    "## 1등 : 6개 번호 다 맞으면!\n",
    "## 2등 : 5개 번호 다 맞으면!\n",
    "## 3등 : 4개 번호 다 맞으면!\n",
    "## 4등 : 3개 번호 다 맞으면!\n",
    "\n",
    "## 5장의 로또번호가 몇등에 당첨되었는지 출력!\n",
    "## 랜덤번호 추출은 다음의 코드를 이용하자\n",
    "\n",
    "import random\n",
    "\n",
    "a = random.randint(1,45) # 1이상 10이하의 정수형 난수 생성( i : e)\n",
    "i=1\n",
    "\n",
    "\n",
    "\n",
    "lotto_ns = []\n",
    "lotto_n = []\n",
    "nSet = []\n",
    "a = set()\n",
    "# nSet.add(random.randint(1,45))\n",
    "\n",
    "# nSet = a.add(random.randint(1,45))\n",
    "# print(a)\n",
    "# #print(len(nSet))\n",
    "\n",
    "\n",
    "# if len(nSet) <= 6:\n",
    "#     nSet.add(random.randint(1,45))\n",
    "    \n",
    "#     print(nSet)\n",
    "    \n",
    "# else: .add(random.randint(1,45))\n",
    "#     pass\n",
    "\n",
    "\n",
    "w = set()\n",
    "\n",
    "while len(w) < 7:\n",
    "    t = random.randint(1,45)\n",
    "    w.add(t)\n",
    "    \n",
    "    \n",
    "print(sorted(w))\n",
    "q = w.pop()\n",
    "\n",
    "print(q)\n",
    "\n",
    "for i in range(5):\n",
    "    \n",
    "    a = set()\n",
    "    \n",
    "    while len(a) < 6:\n",
    "        t = random.randint(1,45)\n",
    "        a.add(t)\n",
    "    lotto_n.append(a) \n",
    "    \n",
    "    if len(lotto_n[i] & w) == 6:\n",
    "        print(\"1등-번호{}\".format(sorted(lotto_n[i])))\n",
    "    elif len(lotto_n[i] & w) == 5 and (w - lotto_n[i]) == q: \n",
    "        print(\"2등-번호{}\".format(sorted(lotto_n[i])))\n",
    "    elif len(lotto_n[i] & w) == 5:\n",
    "        print(\"3등-번호{}\".format(sorted(lotto_n[i])))\n",
    "    elif len(lotto_n[i] & w) == 4:\n",
    "        print(\"4등-번호{}\".format(sorted(lotto_n[i])))\n",
    "    elif len(lotto_n[i] & w) == 3:\n",
    "        print(\"5등-번호{}\".format(sorted(lotto_n[i])))\n",
    "    else:\n",
    "        print(\"꽝\")\n",
    "    \n",
    "print(lotto_n)    \n",
    "print(q)\n",
    "print(\"당첨번호 {} 보너스 번호 {}\".format(w,q))\n",
    "\n",
    "\n",
    "    \n",
    "#     lotto_ns = lotto_n.append(nSet\n",
    "#     print(lotto_ns)"
   ]
  },
  {
   "cell_type": "code",
   "execution_count": 50,
   "metadata": {},
   "outputs": [
    {
     "ename": "KeyboardInterrupt",
     "evalue": "",
     "output_type": "error",
     "traceback": [
      "\u001b[1;31m---------------------------------------------------------------------------\u001b[0m",
      "\u001b[1;31mKeyboardInterrupt\u001b[0m                         Traceback (most recent call last)",
      "\u001b[1;32m<timed exec>\u001b[0m in \u001b[0;36m<module>\u001b[1;34m\u001b[0m\n",
      "\u001b[1;32m<timed exec>\u001b[0m in \u001b[0;36mcheck_prime\u001b[1;34m(num)\u001b[0m\n",
      "\u001b[1;31mKeyboardInterrupt\u001b[0m: "
     ]
    }
   ],
   "source": [
    "%%time\n",
    "\n",
    "## 문제 5번.\n",
    "## 어떤수를 소수의 곱으로만 나타내는 것을 소인수분해라고 합니다.\n",
    "## 이 소수들을 그 수의 소인수라고 합니다\n",
    "\n",
    "## 예) 13195의 소인수는 5,7,13,29,입니다.\n",
    "\n",
    "## 600851475143\n",
    "#k in li:\n",
    "#     t = 0\n",
    "#     for i in range(1,k+1):\n",
    "#         if k % i ==0:\n",
    "#             t += 1\n",
    "#     if t == 2:\n",
    "#         pli.append(k)\n",
    "# print(\"이 {}수의 소인수 중 소수는 {} 입니다.\".format(a,pli))\n",
    "\n",
    "# def get_pfac(n):\n",
    "#     k=2\n",
    "#     while True:\n",
    "#         if n % k == 0:\n",
    "#             n = n/2\n",
    "            \n",
    "#         if n == 0:\n",
    "#             break\n",
    "        \n",
    "                \n",
    "# get_pfac(13195)\n",
    "def check_prime(num):\n",
    "    k = []\n",
    "    if num > 1:\n",
    "        # check for factors\n",
    "        for i in range(2, num):\n",
    "            if (num % i) == 0:\n",
    "                k.append(i)                           \n",
    "        else:\n",
    "            print(num, \"is a prime number\")\n",
    "\n",
    "    # if input number is less than\n",
    "    # or equal to 1, it is not prime\n",
    "    else:\n",
    "        print(num, \"is not a prime number\")\n",
    "    print(k)    \n",
    "check_prime(600851475143)\n",
    "\n",
    "\n",
    "def get_prime_factors(n):\n",
    "    # n 범위 내의 소수를 구한다\n",
    "    primelist = primeSieve(n)\n",
    "    # 이 소수들 중 n으로 나누어 떨어지는\n",
    "    # 소수를 구하고, 몇 번 나눌 수 있는지 계산\n",
    "    # 예 : n = 8, factors = [(2, 3)]\n",
    "    # 예 : n = 100, fcount = [(2: 2), (5: 2)]\n",
    "    factors = []\n",
    "    for p in primelist:\n",
    "        count = 0\n",
    "        while n % p == 0:\n",
    "            n /= p\n",
    "            count += 1\n",
    "        if count > 0:\n",
    "            factors.append((p, count))\n",
    "    return factors"
   ]
  },
  {
   "cell_type": "code",
   "execution_count": 1,
   "metadata": {},
   "outputs": [
    {
     "name": "stdout",
     "output_type": "stream",
     "text": [
      "10 is a prime number\n",
      "[2, 5]\n"
     ]
    }
   ],
   "source": [
    "def check_prime(num):\n",
    "    k = []\n",
    "    if num > 1:\n",
    "        # check for factors\n",
    "        for i in range(2, num):\n",
    "            if (num % i) == 0:\n",
    "                k.append(i)                           \n",
    "        else:\n",
    "            print(num, \"is a prime number\")\n",
    "\n",
    "    # if input number is less than\n",
    "    # or equal to 1, it is not prime\n",
    "    else:\n",
    "        print(num, \"is not a prime number\")\n",
    "    print(k)    \n",
    "check_prime(10)\n"
   ]
  },
  {
   "cell_type": "code",
   "execution_count": 1301,
   "metadata": {},
   "outputs": [
    {
     "name": "stdout",
     "output_type": "stream",
     "text": [
      "총 비용은 21,890,560,000원, 총 21890560장 사야 한다!\n",
      "Wall time: 3min 59s\n"
     ]
    }
   ],
   "source": [
    "%%time \n",
    "## 최상단에 주석보다 제일 앞서 있어야한다. (runtime 계산)\n",
    "import random\n",
    "\n",
    "w = set()\n",
    "\n",
    "while len(w) < 6:\n",
    "    t = random.randint(1,45)\n",
    "    w.add(t)   \n",
    "\n",
    "\n",
    "nTime = 0\n",
    "\n",
    "while True:\n",
    "    a = set()\n",
    "    while len(a) < 6:\n",
    "        q = random.randint(1,45)\n",
    "        a.add(q)\n",
    "     \n",
    "    if len(a & w) == 6:\n",
    "        break # 인접한 가장 가까운 루프 탈출!\n",
    "    else:\n",
    "        nTime += 1\n",
    "        \n",
    "\n",
    "print(\"총 비용은 {:,}원, 총 {}장 사야 한다!\".format((nTime*1000),nTime))\n",
    "\n"
   ]
  },
  {
   "cell_type": "code",
   "execution_count": 108,
   "metadata": {},
   "outputs": [
    {
     "name": "stdout",
     "output_type": "stream",
     "text": [
      "{4, 8, 42, 21, 24, 28}\n"
     ]
    }
   ],
   "source": [
    "\n",
    "w = set()\n",
    "while len(w) < 6:\n",
    "    t = random.randint(1,45)\n",
    "    w.add(t)  \n",
    "print(w)\n"
   ]
  },
  {
   "cell_type": "code",
   "execution_count": 19,
   "metadata": {},
   "outputs": [
    {
     "name": "stdout",
     "output_type": "stream",
     "text": [
      "True\n",
      "99000099\n",
      "Wall time: 1min 23s\n"
     ]
    }
   ],
   "source": [
    "%%time\n",
    "# ### 문제 6.\n",
    "# ### 앞에서 부터 읽을때나 뒤에서 부터 읽을때나 모양이 같은\n",
    "# ### 수를 대칭수라고 합니다.\n",
    "# ### 두자리 수를 곱해서 만들 수 있는 대칭수 중에\n",
    "# ### 가장 큰 수는 9009 (91 * 99)입니다.\n",
    "# ### 세 자리 수를 곱해서 만들 수 있는 가장 큰 대칭수는 얼마?\n",
    "\n",
    "# def timesPro(x,y):\n",
    "#     result = x * y\n",
    "#     ant = str(result)\n",
    "#     if ant == ant[::-1]:\n",
    "#         print(\"대칭되는 값은 {} 입니다\".format(ant))\n",
    "#     else:\n",
    "#         print(\"대칭되지 않습니다\")\n",
    "        \n",
    "#     return(ant)\n",
    "    \n",
    "# #print(timesPro(999,999))\n",
    "\n",
    "\n",
    "\n",
    "# def proTimes(x):\n",
    "    \n",
    "#     var1 = 100 \n",
    "#     var2 = 100\n",
    "#     tli = []\n",
    "\n",
    "#     for i in var1 < 999:\n",
    "#         tli = var1 * var2\n",
    "#         tli.append(tli)\n",
    "#         if tli[i] == tli[::-1][-i]:\n",
    "#             print(\"대칭되는 값은 {} 입니다\".format(tli[i]))\n",
    "#         else:\n",
    "#             print(\"대칭되지 않습니다\")\n",
    "#     return var1,var2,tli[i]\n",
    "\n",
    "# #print(proTimes(999))\n",
    "\n",
    "\n",
    "######## 강사님 코딩 ###########\n",
    "\n",
    "def teacherPro(x):\n",
    "    str1 = str(x)\n",
    "    tmp = list(str(x))\n",
    "    tmp.reverse()\n",
    "    if (str1 == \"\".join(tmp)):\n",
    "        return True\n",
    "    else:\n",
    "        return False\n",
    "\n",
    "print(teacherPro(9009))\n",
    "\n",
    "\n",
    "def calcul_num(x): # x가 1이면 2자리수끼리 곱 , x가 2이면 3자리수 끼리 곱\n",
    "    result=[]\n",
    "    for i in range(10**x,10**(x+1)):\n",
    "        for j in range(10**x,10**(x+1)):\n",
    "            if teacherPro(i*j):\n",
    "                result.append(i*j)\n",
    "    \n",
    "    print(max(result))\n",
    "    \n",
    "calcul_num(3)"
   ]
  },
  {
   "cell_type": "code",
   "execution_count": 26,
   "metadata": {},
   "outputs": [
    {
     "name": "stdout",
     "output_type": "stream",
     "text": [
      "232792560\n",
      "Wall time: 10min 23s\n"
     ]
    }
   ],
   "source": [
    "%%time\n",
    "\n",
    "## 문제 7.\n",
    "##\n",
    "## 1부터 10사이의 어떤 수로도 나누어 떨어지는 가중 작은 수는\n",
    "## 2520 입니다.\n",
    "\n",
    "## 1부터 20사이의 어떤 수로도 나누어 떨어지는 가장 작은 수는 얼마??\n",
    "\n",
    "# xli = []\n",
    "# i = 1\n",
    "# j = 1\n",
    "# for i in range(1,1000000):\n",
    "    \n",
    "#     for j in range(1,20):\n",
    "#         if i % j > 0:\n",
    "#             pass\n",
    "#         else:\n",
    "#             xli.append(i)\n",
    "# print(max(xli))\n",
    "\n",
    "x=1\n",
    "xli = []\n",
    "\n",
    "while len(xli) < 20:\n",
    "    x += 1\n",
    "    xli = []\n",
    "    for i in range(1,21):\n",
    "        if x % i ==0:\n",
    "            xli.append(i)\n",
    "\n",
    "print(x)            \n",
    "        \n"
   ]
  },
  {
   "cell_type": "code",
   "execution_count": 4,
   "metadata": {},
   "outputs": [
    {
     "ename": "KeyboardInterrupt",
     "evalue": "",
     "output_type": "error",
     "traceback": [
      "\u001b[1;31m---------------------------------------------------------------------------\u001b[0m",
      "\u001b[1;31mKeyboardInterrupt\u001b[0m                         Traceback (most recent call last)",
      "\u001b[1;32m<ipython-input-4-add0a87414fa>\u001b[0m in \u001b[0;36m<module>\u001b[1;34m\u001b[0m\n\u001b[0;32m      9\u001b[0m     \u001b[1;32mif\u001b[0m \u001b[0mlen\u001b[0m\u001b[1;33m(\u001b[0m\u001b[0mxli\u001b[0m\u001b[1;33m)\u001b[0m \u001b[1;33m==\u001b[0m \u001b[1;36m2\u001b[0m\u001b[1;33m:\u001b[0m\u001b[1;33m\u001b[0m\u001b[1;33m\u001b[0m\u001b[0m\n\u001b[0;32m     10\u001b[0m         \u001b[0mtli\u001b[0m\u001b[1;33m.\u001b[0m\u001b[0mappend\u001b[0m\u001b[1;33m(\u001b[0m\u001b[0mxli\u001b[0m\u001b[1;33m)\u001b[0m\u001b[1;33m\u001b[0m\u001b[1;33m\u001b[0m\u001b[0m\n\u001b[1;32m---> 11\u001b[1;33m     \u001b[1;32mfor\u001b[0m \u001b[0mi\u001b[0m \u001b[1;32min\u001b[0m \u001b[0mrange\u001b[0m\u001b[1;33m(\u001b[0m\u001b[1;36m1\u001b[0m\u001b[1;33m,\u001b[0m\u001b[1;36m9999\u001b[0m\u001b[1;33m)\u001b[0m\u001b[1;33m:\u001b[0m\u001b[1;33m\u001b[0m\u001b[1;33m\u001b[0m\u001b[0m\n\u001b[0m\u001b[0;32m     12\u001b[0m         \u001b[1;32mif\u001b[0m \u001b[0mx\u001b[0m \u001b[1;33m%\u001b[0m \u001b[0mi\u001b[0m \u001b[1;33m==\u001b[0m\u001b[1;36m0\u001b[0m\u001b[1;33m:\u001b[0m\u001b[1;33m\u001b[0m\u001b[1;33m\u001b[0m\u001b[0m\n\u001b[0;32m     13\u001b[0m             \u001b[0mxli\u001b[0m\u001b[1;33m.\u001b[0m\u001b[0mappend\u001b[0m\u001b[1;33m(\u001b[0m\u001b[0mi\u001b[0m\u001b[1;33m)\u001b[0m\u001b[1;33m\u001b[0m\u001b[1;33m\u001b[0m\u001b[0m\n",
      "\u001b[1;31mKeyboardInterrupt\u001b[0m: "
     ]
    }
   ],
   "source": [
    "x=1\n",
    "xli = []\n",
    "\n",
    "for j in range(1,9999):\n",
    "    \n",
    "    x += 1\n",
    "    xli = []\n",
    "    tli = []\n",
    "    if len(xli) == 2:\n",
    "        tli.append(xli)\n",
    "    for i in range(1,9999):\n",
    "        if x % i ==0:\n",
    "            xli.append(i)\n",
    "\n",
    "print(tli)            \n",
    "        \n",
    "#for i in li(i):"
   ]
  },
  {
   "cell_type": "code",
   "execution_count": 13,
   "metadata": {},
   "outputs": [
    {
     "name": "stdout",
     "output_type": "stream",
     "text": [
      "25164150\n"
     ]
    }
   ],
   "source": [
    "## 문제 9.\n",
    "## 1부터 10까지 자연수를 각각 제곱해서 더하면\n",
    "## 1**2 + 2**2 + 3**2 + 4**2 + ... = 385\n",
    "\n",
    "## 1부터 10까지 모두 더한다음 그 결과를 제곱하면\n",
    "## (1 + 2 + 3 + 4 + 5 + 7 + ...) ** 2 = 3025\n",
    "## 그 차이를 구해보아요 => 3025 - 385 => 2640\n",
    "\n",
    "## 1~100 까지 위의 과정을 가치면 결과가 얼마일까요?\n",
    "i = 1\n",
    "k = 0\n",
    "t = 0\n",
    "for i in range(1,101):\n",
    "    t += i\n",
    "    a = t**2\n",
    "    k += i**2\n",
    "    c = a - k\n",
    "print(c)\n",
    "    \n",
    "\n",
    "    "
   ]
  },
  {
   "cell_type": "code",
   "execution_count": 4,
   "metadata": {
    "scrolled": false
   },
   "outputs": [
    {
     "name": "stdout",
     "output_type": "stream",
     "text": [
      "4 [2, 3, 5, 7]\n",
      "Wall time: 998 µs\n"
     ]
    }
   ],
   "source": [
    "%%time\n",
    "## 문제 10. \n",
    "## 소수를 크기순으로 나열하면 2,3,5,7,11,13,17 ... \n",
    "## 이때 10,001번째 소수는 얼마일까요??\n",
    "\n",
    "xli = []\n",
    "tli = []\n",
    "# i = 1\n",
    "# x = 1\n",
    "# for i in range(1,9999):\n",
    "#     xli.append(i)\n",
    "#     for j in range(1,9999):\n",
    "#         xli[j] % j == 0:\n",
    "#         tli.append(xli)\n",
    "#         if tli \n",
    "\n",
    "# print(xli)     \n",
    "\n",
    "k = 1\n",
    "i = 1\n",
    "\n",
    "for k in range(1,11):\n",
    "    t = 0\n",
    "    for i in range(1, k+1):\n",
    "        if k % i == 0:\n",
    "            t += 1\n",
    "    if t == 2:\n",
    "        xli.append(k)\n",
    "\n",
    "print(len(xli), xli)\n"
   ]
  },
  {
   "cell_type": "code",
   "execution_count": 12,
   "metadata": {},
   "outputs": [
    {
     "name": "stdout",
     "output_type": "stream",
     "text": [
      "10001\n"
     ]
    },
    {
     "ename": "TypeError",
     "evalue": "object of type 'int' has no len()",
     "output_type": "error",
     "traceback": [
      "\u001b[1;31m---------------------------------------------------------------------------\u001b[0m",
      "\u001b[1;31mTypeError\u001b[0m                                 Traceback (most recent call last)",
      "\u001b[1;32m<timed exec>\u001b[0m in \u001b[0;36m<module>\u001b[1;34m\u001b[0m\n",
      "\u001b[1;31mTypeError\u001b[0m: object of type 'int' has no len()"
     ]
    }
   ],
   "source": [
    "%%time\n",
    "xli = []\n",
    "num = 10001\n",
    "k=0\n",
    "\n",
    "while len(xli) < num:\n",
    "    t = 0\n",
    "    k += 1\n",
    "    for i in range(1, k+1):\n",
    "        if k % i == 0:\n",
    "            t += 1\n",
    "    if t == 2:\n",
    "        xli.append(k)\n",
    "print(len(xli))\n",
    "print(len(xli[-1]))"
   ]
  },
  {
   "cell_type": "code",
   "execution_count": 2,
   "metadata": {},
   "outputs": [
    {
     "name": "stdout",
     "output_type": "stream",
     "text": [
      "104743\n",
      "10001\n",
      "Wall time: 17 ms\n"
     ]
    }
   ],
   "source": [
    "%%time\n",
    "\n",
    "import math\n",
    "\n",
    "def get_primes(n):\n",
    "    is_primes = [True] * n\n",
    "    \n",
    "    max_length = math.ceil(math.sqrt(n))\n",
    "    \n",
    "    for i in range(2, max_length):\n",
    "        if is_primes[i]:\n",
    "            for j in range(i+i, n, i):\n",
    "                is_primes[j] = False\n",
    "    return [ i for i in range(2, n) if is_primes[i]]\n",
    "\n",
    "a = get_primes(104747)\n",
    "print(a[10000])\n",
    "print(len(a))"
   ]
  },
  {
   "cell_type": "code",
   "execution_count": 1,
   "metadata": {},
   "outputs": [
    {
     "ename": "NameError",
     "evalue": "name 'math' is not defined",
     "output_type": "error",
     "traceback": [
      "\u001b[1;31m---------------------------------------------------------------------------\u001b[0m",
      "\u001b[1;31mNameError\u001b[0m                                 Traceback (most recent call last)",
      "\u001b[1;32m<ipython-input-1-966547a68dcf>\u001b[0m in \u001b[0;36m<module>\u001b[1;34m\u001b[0m\n\u001b[1;32m----> 1\u001b[1;33m \u001b[0mmath\u001b[0m\u001b[1;33m.\u001b[0m\u001b[0mceil\u001b[0m\u001b[1;33m(\u001b[0m\u001b[0mmath\u001b[0m\u001b[1;33m.\u001b[0m\u001b[0msqrt\u001b[0m\u001b[1;33m(\u001b[0m\u001b[1;36m104747\u001b[0m\u001b[1;33m)\u001b[0m\u001b[1;33m)\u001b[0m\u001b[1;33m\u001b[0m\u001b[1;33m\u001b[0m\u001b[0m\n\u001b[0m\u001b[0;32m      2\u001b[0m \u001b[0mmath\u001b[0m\u001b[1;33m.\u001b[0m\u001b[0msqrt\u001b[0m\u001b[1;33m(\u001b[0m\u001b[1;36m104747\u001b[0m\u001b[1;33m)\u001b[0m\u001b[1;33m\u001b[0m\u001b[1;33m\u001b[0m\u001b[0m\n\u001b[0;32m      3\u001b[0m \u001b[1;33m\u001b[0m\u001b[0m\n\u001b[0;32m      4\u001b[0m \u001b[0mn\u001b[0m\u001b[1;33m=\u001b[0m\u001b[1;36m10\u001b[0m\u001b[1;33m\u001b[0m\u001b[1;33m\u001b[0m\u001b[0m\n\u001b[0;32m      5\u001b[0m \u001b[0mis_primes\u001b[0m\u001b[1;33m=\u001b[0m\u001b[1;33m[\u001b[0m\u001b[1;32mTrue\u001b[0m\u001b[1;33m]\u001b[0m\u001b[1;33m*\u001b[0m\u001b[0mn\u001b[0m\u001b[1;33m\u001b[0m\u001b[1;33m\u001b[0m\u001b[0m\n",
      "\u001b[1;31mNameError\u001b[0m: name 'math' is not defined"
     ]
    }
   ],
   "source": [
    "math.ceil(math.sqrt(104747))\n",
    "math.sqrt(104747)\n",
    "\n",
    "n=10\n",
    "is_primes=[True]*n\n",
    "\n",
    "for i in range(2,n):\n",
    "    \n",
    "    if is_primes[i]:\n",
    "        for j in range(i+i, n, i):\n",
    "            is_primes[j] = False\n",
    "            \n",
    "    print(is_primes)"
   ]
  },
  {
   "cell_type": "code",
   "execution_count": 27,
   "metadata": {},
   "outputs": [
    {
     "name": "stdout",
     "output_type": "stream",
     "text": [
      "[]\n"
     ]
    }
   ],
   "source": [
    "# 문제 11.\n",
    "# 피타고라스 정리 \n",
    "# 자연수 a, b, c \n",
    "# a**2 + b**2 = c**2 ex) 3, 4, 5\n",
    "## 이런 특징을 가지는 수에 대해서 \n",
    "## a + b + c = 1000인 피타고라스 수는 1개만 존재\n",
    "## 이 때 a * b * c ?\n",
    "\n",
    "# print((3**2*0.5)+(4**2*0.5)=(5**2*0.5))\n",
    "# (3**2*0.5)+(4**2*0.5)=(5**2*0.5)\n",
    "# (3**2*0.5)+(4**2*0.5)\n",
    "(5**2*0.5)\n",
    "\n",
    "\n",
    "q = 1\n",
    "w = 1\n",
    "e = 1\n",
    "result = []\n",
    "for i in range(1,10000):\n",
    "    q += 1\n",
    "    w += 1\n",
    "    if ((q**2*0.5)+(w**2*0.5)) == (e**2*0.5):\n",
    "        result.append[[q,w,e]]\n",
    "\n",
    "print(result)"
   ]
  },
  {
   "cell_type": "code",
   "execution_count": 75,
   "metadata": {},
   "outputs": [
    {
     "name": "stdout",
     "output_type": "stream",
     "text": [
      "200 375 425\n",
      "Wall time: 60 ms\n"
     ]
    }
   ],
   "source": [
    "%%time\n",
    "\n",
    "\n",
    "\n",
    "b = 1\n",
    "for b in range(1,500):\n",
    "    a = 1\n",
    "    for a in range(1,b-1):\n",
    "        c = 1000-a-b\n",
    "        if a*a + b*b ==  c*c:\n",
    "        \n",
    "            print(a,b,c)\n",
    "    \n",
    "           # if c*0.5 == int:\n",
    "           #     result.append([a,b,c])\n",
    "#print(result)"
   ]
  },
  {
   "cell_type": "code",
   "execution_count": 3,
   "metadata": {},
   "outputs": [
    {
     "ename": "KeyboardInterrupt",
     "evalue": "",
     "output_type": "error",
     "traceback": [
      "\u001b[1;31m---------------------------------------------------------------------------\u001b[0m",
      "\u001b[1;31mKeyboardInterrupt\u001b[0m                         Traceback (most recent call last)",
      "\u001b[1;32m<timed exec>\u001b[0m in \u001b[0;36m<module>\u001b[1;34m\u001b[0m\n",
      "\u001b[1;32m<timed exec>\u001b[0m in \u001b[0;36mfind_long\u001b[1;34m(x)\u001b[0m\n",
      "\u001b[1;32m<__array_function__ internals>\u001b[0m in \u001b[0;36mappend\u001b[1;34m(*args, **kwargs)\u001b[0m\n",
      "\u001b[1;32m~\\Anaconda3\\envs\\cpu_env\\lib\\site-packages\\numpy\\lib\\function_base.py\u001b[0m in \u001b[0;36mappend\u001b[1;34m(arr, values, axis)\u001b[0m\n\u001b[0;32m   4698\u001b[0m         \u001b[0mvalues\u001b[0m \u001b[1;33m=\u001b[0m \u001b[0mravel\u001b[0m\u001b[1;33m(\u001b[0m\u001b[0mvalues\u001b[0m\u001b[1;33m)\u001b[0m\u001b[1;33m\u001b[0m\u001b[1;33m\u001b[0m\u001b[0m\n\u001b[0;32m   4699\u001b[0m         \u001b[0maxis\u001b[0m \u001b[1;33m=\u001b[0m \u001b[0marr\u001b[0m\u001b[1;33m.\u001b[0m\u001b[0mndim\u001b[0m\u001b[1;33m-\u001b[0m\u001b[1;36m1\u001b[0m\u001b[1;33m\u001b[0m\u001b[1;33m\u001b[0m\u001b[0m\n\u001b[1;32m-> 4700\u001b[1;33m     \u001b[1;32mreturn\u001b[0m \u001b[0mconcatenate\u001b[0m\u001b[1;33m(\u001b[0m\u001b[1;33m(\u001b[0m\u001b[0marr\u001b[0m\u001b[1;33m,\u001b[0m \u001b[0mvalues\u001b[0m\u001b[1;33m)\u001b[0m\u001b[1;33m,\u001b[0m \u001b[0maxis\u001b[0m\u001b[1;33m=\u001b[0m\u001b[0maxis\u001b[0m\u001b[1;33m)\u001b[0m\u001b[1;33m\u001b[0m\u001b[1;33m\u001b[0m\u001b[0m\n\u001b[0m\u001b[0;32m   4701\u001b[0m \u001b[1;33m\u001b[0m\u001b[0m\n\u001b[0;32m   4702\u001b[0m \u001b[1;33m\u001b[0m\u001b[0m\n",
      "\u001b[1;32m<__array_function__ internals>\u001b[0m in \u001b[0;36mconcatenate\u001b[1;34m(*args, **kwargs)\u001b[0m\n",
      "\u001b[1;31mKeyboardInterrupt\u001b[0m: "
     ]
    }
   ],
   "source": [
    "%%time\n",
    "## 문제 12.\n",
    "## 양의 정수 n에 대해서, 다음과 같은 계산 과정을 반복합니다.\n",
    "\n",
    "## n이 짝수일 경우 => n -> 2/n\n",
    "## n이 홀수일 경우 => 3 * + 1\n",
    "\n",
    "## 13이라는 정수 n에 대해서 위의 규칙을 적용해 보면\n",
    "## 13 -> 40 -> 20 ->10 -> ........-> 1\n",
    "## 어떤 수로 시작해도 결국은 1로 끝난다.\n",
    "# 1,000,000(백만)이하의 수로 시작했을 때 1까지 도달하는 과정이 \n",
    "# 가장 긴 수는 얼마인가요\n",
    "\n",
    "# a = np.array([])\n",
    "\n",
    "# for i in range(1,1000000):\n",
    "#     if t % 2 == 0:\n",
    "#         a.append(t/2)\n",
    "        \n",
    "        \n",
    "# def find_long(x):\n",
    "#     a = []\n",
    "#     b = []\n",
    "#     t = np.array(a,dtype=np.float64)\n",
    "#     k = np.array(b,dtype=np.float64)\n",
    "    \n",
    "#     for i in range(1,x):\n",
    "        \n",
    "#         if x % 2 == 0:\n",
    "#             t = x/2\n",
    "            \n",
    "#         if x % 2 != 0:\n",
    "#             t = 3*x+1\n",
    "#         x = t  \n",
    "#         k = np.append(k, x)\n",
    "#         if x == 1:\n",
    "#             break\n",
    "#     #print(k)\n",
    "#     return(k)\n",
    "# find_long(1000000)\n",
    "\n",
    "# find_long(1000000).size\n",
    "\n",
    "# find_long(13)    \n",
    "\n",
    "# want_v = np.array([])\n",
    "\n",
    "# for i in range(1,1000000):\n",
    "#     if find_long(i).size == np.max(find_long):\n",
    "#         print(find_long)\n",
    "    \n",
    "# result = np.array([])\n",
    "import numpy as np\n",
    "result=[]\n",
    "for x in range(1000000,1000,-1):\n",
    "    def find_long(x):\n",
    "        a = []\n",
    "        t = np.array(a,dtype=np.float64)\n",
    "        k = np.array(x)\n",
    "\n",
    "        for i in range(1,x):\n",
    "\n",
    "            if x % 2 == 0:\n",
    "                t = x/2\n",
    "\n",
    "            if x % 2 != 0:\n",
    "                t = 3*x+1\n",
    "            x = t  \n",
    "            k = np.append(k, x)\n",
    "            if x == 1:\n",
    "                break\n",
    "\n",
    "        return(np.size(k))\n",
    "    result = np.append(result,find_long(x))\n",
    "    \n",
    "print(result)\n",
    "    \n",
    "\n"
   ]
  },
  {
   "cell_type": "code",
   "execution_count": 11,
   "metadata": {},
   "outputs": [
    {
     "name": "stdout",
     "output_type": "stream",
     "text": [
      "Wall time: 3 ms\n"
     ]
    },
    {
     "data": {
      "text/plain": [
       "(211, array([6.00851475e+11, 1.80255443e+12, 9.01277213e+11, 2.70383164e+12,\n",
       "        1.35191582e+12, 4.05574746e+12, 2.02787373e+12, 1.01393686e+12,\n",
       "        3.04181059e+12, 1.52090530e+12, 7.60452648e+11, 2.28135794e+12,\n",
       "        1.14067897e+12, 5.70339486e+11, 2.85169743e+11, 1.42584872e+11,\n",
       "        4.27754615e+11, 2.13877307e+11, 6.41631922e+11, 3.20815961e+11,\n",
       "        9.62447883e+11, 4.81223941e+11, 2.40611971e+11, 1.20305985e+11,\n",
       "        3.60917956e+11, 1.80458978e+11, 9.02294890e+10, 4.51147445e+10,\n",
       "        2.25573723e+10, 1.12786861e+10, 5.63934306e+09, 2.81967153e+09,\n",
       "        1.40983577e+09, 7.04917883e+08, 2.11475365e+09, 1.05737682e+09,\n",
       "        3.17213048e+09, 1.58606524e+09, 7.93032619e+08, 2.37909786e+09,\n",
       "        1.18954893e+09, 3.56864679e+09, 1.78432339e+09, 8.92161697e+08,\n",
       "        2.67648509e+09, 1.33824255e+09, 6.69121273e+08, 2.00736382e+09,\n",
       "        1.00368191e+09, 5.01840955e+08, 1.50552287e+09, 7.52761433e+08,\n",
       "        2.25828430e+09, 1.12914215e+09, 5.64571075e+08, 1.69371323e+09,\n",
       "        8.46856613e+08, 2.54056984e+09, 1.27028492e+09, 6.35142460e+08,\n",
       "        3.17571230e+08, 1.58785615e+08, 4.76356846e+08, 2.38178423e+08,\n",
       "        7.14535270e+08, 3.57267635e+08, 1.07180291e+09, 5.35901453e+08,\n",
       "        1.60770436e+09, 8.03852180e+08, 4.01926090e+08, 2.00963045e+08,\n",
       "        6.02889136e+08, 3.01444568e+08, 1.50722284e+08, 7.53611420e+07,\n",
       "        3.76805710e+07, 1.13041714e+08, 5.65208570e+07, 1.69562572e+08,\n",
       "        8.47812860e+07, 4.23906430e+07, 1.27171930e+08, 6.35859650e+07,\n",
       "        1.90757896e+08, 9.53789480e+07, 4.76894740e+07, 2.38447370e+07,\n",
       "        7.15342120e+07, 3.57671060e+07, 1.78835530e+07, 5.36506600e+07,\n",
       "        2.68253300e+07, 1.34126650e+07, 4.02379960e+07, 2.01189980e+07,\n",
       "        1.00594990e+07, 3.01784980e+07, 1.50892490e+07, 4.52677480e+07,\n",
       "        2.26338740e+07, 1.13169370e+07, 3.39508120e+07, 1.69754060e+07,\n",
       "        8.48770300e+06, 2.54631100e+07, 1.27315550e+07, 3.81946660e+07,\n",
       "        1.90973330e+07, 5.72920000e+07, 2.86460000e+07, 1.43230000e+07,\n",
       "        7.16150000e+06, 3.58075000e+06, 1.79037500e+06, 5.37112600e+06,\n",
       "        2.68556300e+06, 8.05669000e+06, 4.02834500e+06, 1.20850360e+07,\n",
       "        6.04251800e+06, 3.02125900e+06, 9.06377800e+06, 4.53188900e+06,\n",
       "        1.35956680e+07, 6.79783400e+06, 3.39891700e+06, 1.01967520e+07,\n",
       "        5.09837600e+06, 2.54918800e+06, 1.27459400e+06, 6.37297000e+05,\n",
       "        1.91189200e+06, 9.55946000e+05, 4.77973000e+05, 1.43392000e+06,\n",
       "        7.16960000e+05, 3.58480000e+05, 1.79240000e+05, 8.96200000e+04,\n",
       "        4.48100000e+04, 2.24050000e+04, 6.72160000e+04, 3.36080000e+04,\n",
       "        1.68040000e+04, 8.40200000e+03, 4.20100000e+03, 1.26040000e+04,\n",
       "        6.30200000e+03, 3.15100000e+03, 9.45400000e+03, 4.72700000e+03,\n",
       "        1.41820000e+04, 7.09100000e+03, 2.12740000e+04, 1.06370000e+04,\n",
       "        3.19120000e+04, 1.59560000e+04, 7.97800000e+03, 3.98900000e+03,\n",
       "        1.19680000e+04, 5.98400000e+03, 2.99200000e+03, 1.49600000e+03,\n",
       "        7.48000000e+02, 3.74000000e+02, 1.87000000e+02, 5.62000000e+02,\n",
       "        2.81000000e+02, 8.44000000e+02, 4.22000000e+02, 2.11000000e+02,\n",
       "        6.34000000e+02, 3.17000000e+02, 9.52000000e+02, 4.76000000e+02,\n",
       "        2.38000000e+02, 1.19000000e+02, 3.58000000e+02, 1.79000000e+02,\n",
       "        5.38000000e+02, 2.69000000e+02, 8.08000000e+02, 4.04000000e+02,\n",
       "        2.02000000e+02, 1.01000000e+02, 3.04000000e+02, 1.52000000e+02,\n",
       "        7.60000000e+01, 3.80000000e+01, 1.90000000e+01, 5.80000000e+01,\n",
       "        2.90000000e+01, 8.80000000e+01, 4.40000000e+01, 2.20000000e+01,\n",
       "        1.10000000e+01, 3.40000000e+01, 1.70000000e+01, 5.20000000e+01,\n",
       "        2.60000000e+01, 1.30000000e+01, 4.00000000e+01, 2.00000000e+01,\n",
       "        1.00000000e+01, 5.00000000e+00, 1.60000000e+01, 8.00000000e+00,\n",
       "        4.00000000e+00, 2.00000000e+00, 1.00000000e+00]))"
      ]
     },
     "execution_count": 11,
     "metadata": {},
     "output_type": "execute_result"
    }
   ],
   "source": [
    "%%time\n",
    "def find_long(x):\n",
    "    a = []\n",
    "    b = []\n",
    "    t = np.array(a,dtype=np.float64)\n",
    "    k = np.array(x)\n",
    "    \n",
    "    for i in range(1,x):\n",
    "        \n",
    "        if x % 2 == 0:\n",
    "            t = x/2\n",
    "            \n",
    "        if x % 2 != 0:\n",
    "            t = 3*x+1\n",
    "        x = t  \n",
    "        k = np.append(k, x)\n",
    "        if x == 1:\n",
    "            break\n",
    "    \n",
    "    return np.size(k)\n",
    "find_long(600851475143)\n",
    "\n",
    "# for x in range(1000000,100000,-1):\n",
    "#    if find_long(x-1) > find_long(x):\n",
    "#        pass\n",
    "#        print(max(find_long(x))\n",
    "              \n",
    "## 시간을 줄여보자!\n",
    "        \n"
   ]
  },
  {
   "cell_type": "code",
   "execution_count": 54,
   "metadata": {},
   "outputs": [
    {
     "name": "stdout",
     "output_type": "stream",
     "text": [
      "Wall time: 999 µs\n"
     ]
    },
    {
     "data": {
      "text/plain": [
       "(1980, 105, 9995)"
      ]
     },
     "execution_count": 54,
     "metadata": {},
     "output_type": "execute_result"
    }
   ],
   "source": [
    "%%time\n",
    "\n",
    "## 문제 13.\n",
    "## 다음과 같은 특성을 가지는 숫자의 개수를 구하는 프로그램을\n",
    "## 작성해 보자.\n",
    "\n",
    "## 두개의 숫자을 이용. 양의 정수 1, 100\n",
    "##\n",
    "## x초과 그리고 y미만인 숫자 중 각 자리의 숫자를 모두 더한값이\n",
    "## 5의 배수가 되는 숫자를 구하고 해당숫자가 몇개인지 출력하세요.\n",
    "\n",
    "def find_n(x,y):\n",
    "    li = []\n",
    "    \n",
    "    for x in range(x-1,y-1):\n",
    "        x += 1\n",
    "        \n",
    "        if x % 5 == 0:\n",
    "            li.append(x)\n",
    "    return(len(li), li[1], li[-1])\n",
    "\n",
    "#find_n(1,100)\n",
    "\n",
    "#find_n(5,500)\n",
    "\n",
    "find_n(100,10000)"
   ]
  },
  {
   "cell_type": "code",
   "execution_count": 73,
   "metadata": {},
   "outputs": [
    {
     "data": {
      "text/plain": [
       "(1980, 10, 35)"
      ]
     },
     "execution_count": 73,
     "metadata": {},
     "output_type": "execute_result"
    }
   ],
   "source": [
    "def new_n(x,y):\n",
    "    li=[]\n",
    "    result = 0        #result값을 사용하기위해 초기화\n",
    "    for x in range(x+1,y): \n",
    "        k = str(x)    #str(변수) 글자를 문자형으로 변환\n",
    "        result = 0\n",
    "        for j in range(len(k)):\n",
    "            result += int(k[j])\n",
    "        if result % 5 == 0:\n",
    "            li.append(result)\n",
    "    return len(li), li[1], li[-1]    #계산이 끝났으니 return\n",
    "\n",
    "\n",
    "new_n(100,10000)\n",
    "\n",
    "#print(int(\"313\"))"
   ]
  },
  {
   "cell_type": "code",
   "execution_count": 191,
   "metadata": {},
   "outputs": [
    {
     "ename": "KeyboardInterrupt",
     "evalue": "",
     "output_type": "error",
     "traceback": [
      "\u001b[1;31m---------------------------------------------------------------------------\u001b[0m",
      "\u001b[1;31mKeyboardInterrupt\u001b[0m                         Traceback (most recent call last)",
      "\u001b[1;32m<ipython-input-191-ce712f4ffc28>\u001b[0m in \u001b[0;36m<module>\u001b[1;34m\u001b[0m\n\u001b[0;32m     30\u001b[0m     \u001b[1;32mreturn\u001b[0m \u001b[0mk\u001b[0m\u001b[1;33m,\u001b[0m\u001b[0md\u001b[0m\u001b[1;33m,\u001b[0m \u001b[0mq\u001b[0m\u001b[1;33m,\u001b[0m \u001b[0mw\u001b[0m\u001b[1;33m\u001b[0m\u001b[1;33m\u001b[0m\u001b[0m\n\u001b[0;32m     31\u001b[0m \u001b[1;33m\u001b[0m\u001b[0m\n\u001b[1;32m---> 32\u001b[1;33m \u001b[0mfind_big\u001b[0m\u001b[1;33m(\u001b[0m\u001b[1;36m652345\u001b[0m\u001b[1;33m)\u001b[0m\u001b[1;33m\u001b[0m\u001b[1;33m\u001b[0m\u001b[0m\n\u001b[0m",
      "\u001b[1;32m<ipython-input-191-ce712f4ffc28>\u001b[0m in \u001b[0;36mfind_big\u001b[1;34m(x)\u001b[0m\n\u001b[0;32m     19\u001b[0m     \u001b[1;32mwhile\u001b[0m \u001b[1;32mTrue\u001b[0m\u001b[1;33m:\u001b[0m\u001b[1;33m\u001b[0m\u001b[1;33m\u001b[0m\u001b[0m\n\u001b[0;32m     20\u001b[0m         \u001b[0mt\u001b[0m \u001b[1;33m=\u001b[0m \u001b[0mk\u001b[0m\u001b[1;33m\u001b[0m\u001b[1;33m\u001b[0m\u001b[0m\n\u001b[1;32m---> 21\u001b[1;33m         \u001b[0md\u001b[0m \u001b[1;33m=\u001b[0m \u001b[0mint\u001b[0m\u001b[1;33m(\u001b[0m\u001b[0mlen\u001b[0m\u001b[1;33m(\u001b[0m\u001b[0mk\u001b[0m\u001b[1;33m)\u001b[0m\u001b[1;33m/\u001b[0m\u001b[1;36m2\u001b[0m\u001b[1;33m)\u001b[0m\u001b[1;33m\u001b[0m\u001b[1;33m\u001b[0m\u001b[0m\n\u001b[0m\u001b[0;32m     22\u001b[0m         \u001b[0mq\u001b[0m \u001b[1;33m=\u001b[0m \u001b[0mint\u001b[0m\u001b[1;33m(\u001b[0m\u001b[0mk\u001b[0m\u001b[1;33m[\u001b[0m\u001b[0mint\u001b[0m\u001b[1;33m(\u001b[0m\u001b[0md\u001b[0m\u001b[1;33m)\u001b[0m\u001b[1;33m:\u001b[0m\u001b[1;33m]\u001b[0m\u001b[1;33m)\u001b[0m\u001b[1;33m\u001b[0m\u001b[1;33m\u001b[0m\u001b[0m\n\u001b[0;32m     23\u001b[0m         \u001b[0mw\u001b[0m \u001b[1;33m=\u001b[0m \u001b[0mint\u001b[0m\u001b[1;33m(\u001b[0m\u001b[0mk\u001b[0m\u001b[1;33m[\u001b[0m\u001b[1;33m:\u001b[0m\u001b[0mint\u001b[0m\u001b[1;33m(\u001b[0m\u001b[0md\u001b[0m\u001b[1;33m)\u001b[0m\u001b[1;33m]\u001b[0m\u001b[1;33m)\u001b[0m\u001b[1;33m\u001b[0m\u001b[1;33m\u001b[0m\u001b[0m\n",
      "\u001b[1;31mKeyboardInterrupt\u001b[0m: "
     ]
    }
   ],
   "source": [
    "## 문제 14.\n",
    "\n",
    "## 6자리 이상 9자리 미만의 수를 하나 이용\n",
    "\n",
    "## 예) 6522345\n",
    "\n",
    "## 수의 중앙을 기준으로 두개의 수로 분리\n",
    "\n",
    "## 두개의 수로 분리한 다음 큰수를 선택\n",
    "\n",
    "## 이 작업을 계속 진행 -> 더 이상 나눌 수 없을 때 까지 진행\n",
    "\n",
    "# 예) 6522345 -> 652, 345 -> 652 -> 6, 2 -> 6\n",
    "\n",
    "def find_big(x):\n",
    "    q=0\n",
    "    w=0\n",
    "    k = str(x)\n",
    "    while True:\n",
    "        t = k\n",
    "        d = int(len(k)/2)\n",
    "        q = int(k[int(d):])\n",
    "        w = int(k[:int(d)])\n",
    "        if q > w:\n",
    "            t = q\n",
    "        if int(k[int(d):]) < int(k[:int(d)]):\n",
    "            t = w\n",
    "        if len(k) == 1:\n",
    "            break\n",
    "    return k,d, q, w\n",
    "        \n",
    "find_big(652345)"
   ]
  },
  {
   "cell_type": "code",
   "execution_count": 185,
   "metadata": {},
   "outputs": [
    {
     "name": "stdout",
     "output_type": "stream",
     "text": [
      "546\n",
      "162\n",
      "3\n"
     ]
    },
    {
     "data": {
      "text/plain": [
       "('652', 3, '652', '234')"
      ]
     },
     "execution_count": 185,
     "metadata": {},
     "output_type": "execute_result"
    }
   ],
   "source": [
    "a=546162\n",
    "t=str(a)\n",
    "type(len(t))\n",
    "v=len(t)/2\n",
    "int(v)\n",
    "q= t[:int(v)]\n",
    "w= t[int(v):]\n",
    "print(q)\n",
    "print(w)\n",
    "print(int(v))\n",
    "#t[(int(len(t))/2):]\n",
    "\n",
    "\n",
    "def find_som(x):\n",
    "    for i in range(len(str(x))):\n",
    "        k = str(x)\n",
    "        d = int(len(k)/2)\n",
    "        q = k[:int(d)]\n",
    "        w = k[int(d):]\n",
    "        if int(k[int(d):]) > int(k[:int(d)]):\n",
    "            k = k[int(d):]\n",
    "        if int(k[int(d):]) < int(k[:int(d)]):\n",
    "            k = k[:int(d)]\n",
    "        \n",
    "    return k,d, q, w\n",
    "        \n",
    "find_som(652234)\n",
    "    "
   ]
  },
  {
   "cell_type": "code",
   "execution_count": 222,
   "metadata": {},
   "outputs": [
    {
     "ename": "KeyboardInterrupt",
     "evalue": "",
     "output_type": "error",
     "traceback": [
      "\u001b[1;31m---------------------------------------------------------------------------\u001b[0m",
      "\u001b[1;31mKeyboardInterrupt\u001b[0m                         Traceback (most recent call last)",
      "\u001b[1;32m<timed exec>\u001b[0m in \u001b[0;36m<module>\u001b[1;34m\u001b[0m\n",
      "\u001b[1;32m<timed exec>\u001b[0m in \u001b[0;36mnew_n\u001b[1;34m(x)\u001b[0m\n",
      "\u001b[1;31mKeyboardInterrupt\u001b[0m: "
     ]
    }
   ],
   "source": [
    "%%time\n",
    "\n",
    "## 문제 15.\n",
    "## 2 ** 15 = 32768 각 자리수의 합은 ?\n",
    "#print(2**100000)\n",
    "\n",
    "def new_n(x):\n",
    "    \n",
    "    result = np.array([])\n",
    "    for i in range(len(str(x))): \n",
    "        \n",
    "        result = np.append(result,int(str(x)[i])) \n",
    "      \n",
    "            \n",
    "    return print(\"x의 각 자리수 합은 : {}\".format(sum(result)))    \n",
    "\n",
    "\n",
    "\n",
    "new_n(2**100000)\n"
   ]
  },
  {
   "cell_type": "code",
   "execution_count": 11,
   "metadata": {
    "scrolled": true
   },
   "outputs": [
    {
     "name": "stdout",
     "output_type": "stream",
     "text": [
      "1351546\n",
      "Wall time: 1.51 s\n"
     ]
    }
   ],
   "source": [
    "%%time\n",
    "import numpy as np\n",
    "data = str(2**1000000)\n",
    "result = np.array([int(data[x]) for x in range(len(data))])\n",
    "print(result.sum())"
   ]
  },
  {
   "cell_type": "code",
   "execution_count": 10,
   "metadata": {},
   "outputs": [
    {
     "name": "stdout",
     "output_type": "stream",
     "text": [
      "Wall time: 1.4 s\n",
      "정답 : 1351546\n"
     ]
    }
   ],
   "source": [
    "%%time\n",
    "import threading\n",
    "def in_put(x,y):\n",
    "    t = sum(list(map(int, str(x**y))))\n",
    "    return print(\"정답 : {}\".format(t))\n",
    "\n",
    "n = threading.Thread(target=in_put, args=(2, 1000000))\n",
    "n.start()\n",
    "#in_put()\n",
    "\n",
    "# t = sum(list(map(int, str(2**1000))))\n",
    "# print(t)"
   ]
  },
  {
   "cell_type": "code",
   "execution_count": 2,
   "metadata": {},
   "outputs": [
    {
     "ename": "NameError",
     "evalue": "name 'A' is not defined",
     "output_type": "error",
     "traceback": [
      "\u001b[1;31m---------------------------------------------------------------------------\u001b[0m",
      "\u001b[1;31mNameError\u001b[0m                                 Traceback (most recent call last)",
      "\u001b[1;32m<timed eval>\u001b[0m in \u001b[0;36m<module>\u001b[1;34m\u001b[0m\n",
      "\u001b[1;31mNameError\u001b[0m: name 'A' is not defined"
     ]
    }
   ],
   "source": [
    "%%time\n",
    "\n",
    "# len(str(2**10000000))\n",
    "int(A)"
   ]
  },
  {
   "cell_type": "code",
   "execution_count": 2,
   "metadata": {},
   "outputs": [
    {
     "name": "stdout",
     "output_type": "stream",
     "text": [
      "['A', 'A', 'B', 'A', 'B', 'C', 'C', 'B', 'A', 'B', 'C', 'A', 'C', 'C', 'B', 'A', 'C', 'C', 'A', 'A', 'B', 'C', 'C']\n",
      "AABABCCBABCACCBACCAABCC\n",
      "생산가능 제품 수 : 3\n",
      "Wall time: 642 ms\n"
     ]
    }
   ],
   "source": [
    "%%time\n",
    "\n",
    "## 문제 16. \n",
    "## 공장에서 부품을 생산해요!!\n",
    "## 각 부품의 생산정보가 문자열로 제공된다.\n",
    "## 예)부품생산정보 : A7B5C4A1A8B9B3A5A8B9B1C7C1A1B3C7B9B3A7B8A1C9A8C9\n",
    "#                   C7B9C3A5A8B3C9C8A7A8B9C9C7.\n",
    "## 문자는 부품이름 (A, B, C 중 1개)\n",
    "## 숫자는 부품의 품질 ( 1~9 ) 숫자가 높을 수록 품질이 우수\n",
    "\n",
    "## 생산정보에서 품질이 7이상인 부품만 추출(7미만은 불량품)\n",
    "\n",
    "## 결과) A7A9B9C7A8B8C9...\n",
    "## 만들어진 결과를 이용해서 부품을 조립\n",
    "## ABC가 연속적으로 있으면 제품 조립\n",
    "## 주어진 문자열을 이용해서 총 몇개의 제품을 조립할 수 있나요?\n",
    "## x 개!\n",
    "\n",
    "import numpy as np\n",
    "import pandas as pd\n",
    "\n",
    "def make_goods(x):\n",
    "    material = []\n",
    "    co_num = []\n",
    "    t = list(map(str,str(x)))\n",
    "    for i in range(1,len(t),2):\n",
    "        if int(t[i])>=7:\n",
    "            material.append(t[i-1])\n",
    "        co_goods = \"\".join(material)\n",
    "        co_num = co_goods.count(\"ABC\")\n",
    "    \n",
    "    print(material)  \n",
    "    print(co_goods)\n",
    "\n",
    "    return print(\"생산가능 제품 수 : {}\".format(co_num))\n",
    "                 \n",
    "                 \n",
    "make_goods(\"A7B5C4A1A8B9B3A5A8B9B1C7C1A1B3C7B9B3A7B8A1C9A8C9C7B9C3A5A8B3C9C8A7A8B9C9C7\")\n",
    "\n",
    "\n"
   ]
  },
  {
   "cell_type": "code",
   "execution_count": 41,
   "metadata": {},
   "outputs": [
    {
     "name": "stdout",
     "output_type": "stream",
     "text": [
      "[65, 55, 66, 53, 67, 52, 65, 49, 65, 56, 66, 57, 66, 51, 65, 53, 65, 56, 66, 57, 66, 49, 67, 55, 67, 49, 65, 49, 66, 51, 67, 55, 66, 57, 66, 51, 65, 55, 66, 56, 65, 49, 67, 57, 65, 56, 67, 57]\n",
      "['A', '7', 'B', '5', 'C', '4', 'A', '1', 'A', '8', 'B', '9', 'B', '3', 'A', '5', 'A', '8', 'B', '9', 'B', '1', 'C', '7', 'C', '1', 'A', '1', 'B', '3', 'C', '7', 'B', '9', 'B', '3', 'A', '7', 'B', '8', 'A', '1', 'C', '9', 'A', '8', 'C', '9']\n"
     ]
    }
   ],
   "source": [
    "a=str(\"A7B5C4A1A8B9B3A5A8B9B1C7C1A1B3C7B9B3A7B8A1C9A8C9\")\n",
    "t = list(map(ord,a))\n",
    "t\n",
    "# k = list(map(int,t))\n",
    "material = []\n",
    "for i in range(0,len(t)):\n",
    "    if t[i] <= 67:\n",
    "        material.append(t[i])\n",
    "\n",
    "print(material)        \n",
    "        \n",
    "k = list(map(str, material))\n",
    "\n",
    "goods = []\n",
    "\n",
    "for i in range(0,len(material)):\n",
    "    goods.append(chr(material[i]))\n",
    "        \n",
    "print(goods)        \n",
    "\n"
   ]
  },
  {
   "cell_type": "code",
   "execution_count": 130,
   "metadata": {},
   "outputs": [
    {
     "name": "stdout",
     "output_type": "stream",
     "text": [
      "['A', 'A', 'B', 'A', 'B', 'C', 'C', 'B', 'A', 'B', 'C', 'A']\n",
      "AABABCCBABCA\n",
      "2\n"
     ]
    }
   ],
   "source": [
    "t = list(map(str,\"A7B5C4A1A8B9B3A5A8B9B1C7C1A1B3C7B9B3A7B8A1C9A8C\"))\n",
    "material = []\n",
    "co_num = []\n",
    "for i in range(1,len(t),2):\n",
    "    if int(t[i])>=7:\n",
    "        material.append(t[i-1])\n",
    "    co_goods = \"\".join(material)\n",
    "    co_num = co_goods.count(\"ABC\")\n",
    "print(material)\n",
    "print(co_goods)\n",
    "print(co_num)\n",
    "\n",
    "\n",
    "\n",
    "ttq = co_goods.find(\"ABC\", len(material))\n",
    "          \n",
    "#print(ttq)\n"
   ]
  },
  {
   "cell_type": "code",
   "execution_count": 95,
   "metadata": {},
   "outputs": [
    {
     "name": "stdout",
     "output_type": "stream",
     "text": [
      "['A', 'A', 'B', 'A', 'B', 'C', 'C', 'B', 'A', 'B', 'C', 'A']\n",
      "AABABCCBABCA\n",
      "3\n"
     ]
    }
   ],
   "source": [
    "print(material)\n",
    "\n",
    "co_goods = \"\".join(material)\n",
    "print(co_goods)\n",
    "ttq = co_goods.find(\"ABC\")\n",
    "\n",
    "            \n",
    "print(ttq)\n"
   ]
  },
  {
   "cell_type": "code",
   "execution_count": 1,
   "metadata": {},
   "outputs": [
    {
     "name": "stdout",
     "output_type": "stream",
     "text": [
      "['A7', 'A8', 'B9', 'A8', 'B9', 'C7', 'C7', 'B9', 'A7', 'B8', 'C9', 'A8', 'C9', 'C7', 'B9', 'A8', 'C9', 'C8', 'A7', 'A8', 'B9', 'C9', 'C7']\n",
      "A7A8B9A8B9C7C7B9A7B8C9A8C9C7B9A8C9C8A7A8B9C9C7\n",
      "['A8B9C7', 'A7B8C9', 'A8B9C9']\n"
     ]
    }
   ],
   "source": [
    "## 패턴매칭 문제 (정규식 이용)\n",
    "\n",
    "import re  # 정규식 이용\n",
    "\n",
    "a = \"A7B5C4A1A8B9B3A5A8B9B1C7C1A1B3C7B9B3A7B8A1C9A8C9C7B9C3A5A8B3C9C8A7A8B9C9C7\"\n",
    "\n",
    "regex = re.compile(\".[789]\")\n",
    "result = regex.findall(a)\n",
    "print(result)\n",
    "valid_str = \"\".join(result)\n",
    "print(valid_str)\n",
    "\n",
    "regex = re.compile(\"A.B.C.\")\n",
    "result = regex.findall(valid_str)\n",
    "print(result)"
   ]
  },
  {
   "cell_type": "code",
   "execution_count": 114,
   "metadata": {},
   "outputs": [
    {
     "name": "stdout",
     "output_type": "stream",
     "text": [
      "40320 [1, 2, 6, 24, 120, 720, 5040, 40320]\n",
      "8!의 각 자리수의 총 합 : 9 입니다.\n"
     ]
    }
   ],
   "source": [
    "## 문제 17.\n",
    "## 팩토리얼(!)\n",
    "## 10! = 10*9*8*7 ... *1 = 36288\n",
    "## 각 자리수의 합은 => 3+6+2.. => 27\n",
    "\n",
    "import numpy as np\n",
    "import pandas as pd\n",
    "\n",
    "def facto(x):\n",
    "    t = 1\n",
    "    li = []\n",
    "    for i in range(1,x+1):\n",
    "        t *= i\n",
    "        li.append(t)\n",
    "    print(t,li)  \n",
    "    count_n = list(map(int, str(t)))\n",
    "    return print(\"{}!의 각 자리수의 총 합 : {} 입니다.\".format(x,sum(count_n)))\n",
    "\n",
    "facto(8)\n",
    "\n",
    "#print(count_n)\n",
    "#sum(count_n)\n"
   ]
  },
  {
   "cell_type": "code",
   "execution_count": 116,
   "metadata": {},
   "outputs": [
    {
     "name": "stdout",
     "output_type": "stream",
     "text": [
      "[10, 15, 3, 5, 9, 5, 7, 8, 9, 15, 44, 54, 15, 67, 32, 25, 48, 98, 44, 56]\n",
      "[15, 10, 5, 3]\n",
      "[3, 15, 9, 5]\n",
      "[5, 3, 5, 9]\n",
      "[9, 5, 7, 5]\n",
      "[5, 9, 8, 7]\n",
      "[7, 5, 9, 8]\n",
      "[8, 7, 15, 9]\n",
      "[9, 8, 44, 15]\n",
      "[15, 9, 54, 44]\n",
      "[44, 15, 15, 54]\n",
      "[54, 44, 67, 15]\n",
      "[15, 54, 32, 67]\n",
      "[67, 15, 25, 32]\n",
      "[32, 67, 48, 25]\n",
      "[25, 32, 98, 48]\n",
      "[48, 25, 44, 98]\n",
      "[98, 48, 56, 44]\n",
      "[33, 32, 22, 26, 29, 29, 39, 76, 122, 128, 180, 168, 139, 172, 203, 215, 246]\n"
     ]
    }
   ],
   "source": [
    "## 문제 18.\n",
    "## 최소 10개 최대 20개의 숫자로 구성된 숫자목록을 이용\n",
    "## 예) x = '1, 3, 4, 5, 7, 9, 2, 3, 4, 7'\n",
    "## 숫자목록을 재배치 하려한다.\n",
    "## 1. 앞에서 4개를 선택한다.\n",
    "## [1,3,4,5],7, 9, 2, 3, 4, 7 =>  합 13\n",
    "## 첫번째와 두번째의 위치를 교환 세번째와 네번째의 위치를 교환\n",
    "## [3,1,5,4],7, 9, 2, 3, 4, 7\n",
    "## 2. 한칸전진해서 1의 과정 반복\n",
    "## 3. [1,5,4,7],9,2,3,4,7 => 합 17\n",
    "## ...........끝자리 까지 가장 큰 합은 얼마인가요?\n",
    "##            그때의 4개의 숫자는 순서대로 무엇 인가요?\n",
    "x = '10, 15, 3, 5, 9, 5, 7, 8, 9, 15, 44, 54, 15, 67, 32, 25, 48, 98, 44, 56'\n",
    "\n",
    "t = x.replace(\", \", \" \")\n",
    "a=t.split()\n",
    "k = list(map(int,a))\n",
    "print(k)\n",
    "\n",
    "li = []\n",
    "sli = []\n",
    "i=0\n",
    "for i in range(i,len(k)-3):\n",
    "    li = []\n",
    "    li = [k[i+1],k[i],k[i+3],k[i+2]]\n",
    "    sli.append(sum([k[i+1],k[i],k[i+3],k[i+2]]))\n",
    "    print(li)\n",
    "    \n",
    "#print(li)\n",
    "print(sli)\n",
    "#list(map(int,str(x)))\n",
    "#list(map(int,t))\n",
    "#print(list(t))"
   ]
  },
  {
   "cell_type": "code",
   "execution_count": 14,
   "metadata": {},
   "outputs": [
    {
     "name": "stdout",
     "output_type": "stream",
     "text": [
      "[10, 15, 3, 5, 9, 5, 7, 8, 9, 15, 44, 54, 15, 67, 32, 25, 48, 98, 44, 56]\n"
     ]
    }
   ],
   "source": [
    "x = '10, 15, 3, 5, 9, 5, 7, 8, 9, 15, 44, 54, 15, 67, 32, 25, 48, 98, 44, 56'\n",
    "\n",
    "t = x.replace(\", \", \" \")\n",
    "a=t.split()\n",
    "k = list(map(int,a))\n",
    "print(k)\n",
    "\n",
    "li = []\n",
    "sli = []\n",
    "i=0\n",
    "# for i in range(i,len(k)):\n",
    "    \n",
    "#     li.append([k[i],k[i+1],k[i+2],k[i+3]])     \n",
    "    \n",
    "    \n",
    "    \n",
    "#     #sli.append(sum([k[i+1],k[i],k[i+3],k[i+2]]))\n",
    "#     #print(k)\n",
    "#     print(li)\n",
    "    \n",
    "#print(li)\n",
    "#print(sli)"
   ]
  },
  {
   "cell_type": "code",
   "execution_count": 92,
   "metadata": {},
   "outputs": [],
   "source": [
    "## 문제 19.\n",
    "## 어떤 대상을 순서대로 나열한것을 순열이라고 합니다.\n",
    "## 예를 들어 3124는 1,2,3,4로 만들수 있는 순열 중 하나에요\n",
    "\n",
    "## 순열을 만들 때 사전식 순열을 만들 수 있다!\n",
    "\n",
    "## 0, 1, 2 사전식 순열을 만들면\n",
    "## 012, 021, 102, 120, 201,210\n",
    "\n",
    "## 그러면 0~9 까지 만들 수 있는 사전식 순열에서\n",
    "## 1,000,000 번째 값은 무엇인가요\n",
    "x = \"0123654978\"\n",
    "\n",
    "t = list(map(str,str(x)))\n",
    "#print(sorted(t)[0:len(k)-4])\n",
    "#print(t)\n",
    "\n",
    "\n",
    "# def make_arange(x):\n",
    "\n",
    "k = [0,1,2,3,4,5,6,7,8,9]\n",
    "a = []\n",
    "\n",
    "\n",
    "def make_arange(k):\n",
    "    if len(k) == 1:\n",
    "        return [k]\n",
    "    else:\n",
    "        result = []\n",
    "    for i in k:\n",
    "        b = k.copy()\n",
    "        b.remove(i)\n",
    "        b.sort()\n",
    "        for j in make_arange(b):\n",
    "            j.insert(0,i)\n",
    "            if j not in result:\n",
    "                result.append(j)\n",
    "    return print(result)\n",
    "\n",
    "  \n",
    "    make_arange(k)\n",
    "    k = [0,1,2,3,4,5,6,7,8,9]\n",
    "    print(len(k))"
   ]
  },
  {
   "cell_type": "code",
   "execution_count": null,
   "metadata": {},
   "outputs": [],
   "source": [
    "%%time\n",
    "\n",
    "def perm(a): # permutation을 얻어내기 위한 함수를 정의한다. 인수로는 나열해야할 숫자들을 리스트로 받는다. \n",
    "    length=len(a) # 나열해야할 리스트의 길이(개수)를 계산한다. \n",
    "    if length==1: # 만약 나열해야할 리스트에 원소가 1개 밖에 없다면 그냥 인수로 받았던 리스트를 반환한다. \n",
    "        return [a] \n",
    "    else: \n",
    "        result=[] # 결과가 저장 될 빈 리스트를 생성한다. \n",
    "        for i in a: # 리스트 a의 원소들을 하나씩 i에 받는다. \n",
    "            b=a.copy() # b에 인수로 받은 리스트를 복사한다.\n",
    "            b.remove(i) # 맨 앞자리에 i가 오는 경우 일단 b에서 i를 제거하고 \n",
    "            b.sort() # i가 제거된 b를 오름차순으로 정렬한다. \n",
    "            for j in perm(b): # 함수를 재귀적으로 사용하여 b에 속한 원소들을 나열하는 순열의 모든 경우를 리스트로 받는다. \n",
    "                j.insert(0, i) # 다시 맨 앞자리에 i를 추가해 준다. \n",
    "                if j not in result: # result에 j 가 존재하지 않는다면 result에 j를 추가한다. \n",
    "                    result.append(j) # 이렇게 하면 같은 것이 있는 순열의 모든 경우도 나열하는 것이 가능하다. \n",
    "    return result\n",
    "a = [0,1,2,3,4,5,6,7,8,9]\n",
    "print(len(perm(a)),perm(a)[1000000])"
   ]
  }
 ],
 "metadata": {
  "kernelspec": {
   "display_name": "[CPU_ENV]",
   "language": "python",
   "name": "cpu_env"
  },
  "language_info": {
   "codemirror_mode": {
    "name": "ipython",
    "version": 3
   },
   "file_extension": ".py",
   "mimetype": "text/x-python",
   "name": "python",
   "nbconvert_exporter": "python",
   "pygments_lexer": "ipython3",
   "version": "3.6.9"
  }
 },
 "nbformat": 4,
 "nbformat_minor": 2
}
