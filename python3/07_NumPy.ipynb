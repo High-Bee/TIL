{
 "cells": [
  {
   "cell_type": "code",
   "execution_count": 1,
   "metadata": {},
   "outputs": [],
   "source": [
    "##  NumPy ( Numerical Python )\n",
    "## 수학적 계산을 할 때, 수치연산을 할 떄 사용됨.\n",
    "## R의 vector를 사용하는 것 처럼 NumPy를 이용할 수 있다!\n",
    "## Vector연산, Matrix연산을 빠르고 효율적으로 처리할 수 있다!\n",
    "\n",
    "## Pandas, Matplotlib의 기본 Module이 NumPy\n",
    "\n",
    "## NumPy module은 ndarry(n-dimensional array)라고 불리는 \n",
    "## 자료구조를 이용한다. => R에서 Vector와 유사 (NumPy에서는 싹다 ndarray라고 함)\n",
    "\n",
    "## R의 Vector자료구조는 같은 데이터 타입을 저장하는 구조\n",
    "## ndarray도 같은 데이터 타입만 저장이 가능\n",
    "\n",
    "##  NumPy의 ndarray를 이용하려면 NumPy module이 설치되어야 한다!"
   ]
  },
  {
   "cell_type": "code",
   "execution_count": 2,
   "metadata": {},
   "outputs": [
    {
     "name": "stdout",
     "output_type": "stream",
     "text": [
      "list => [1, 2, 3, 4], type => <class 'list'>\n",
      "list[0] => 1, type => <class 'int'>\n",
      "ndarray => [1 2 3 4]\n",
      "ndarray type => <class 'numpy.ndarray'>\n",
      "ndarray dtype => int32\n",
      "['100' 'Hello' '3.14']\n",
      "<U11\n",
      "<class 'numpy.str_'>\n"
     ]
    }
   ],
   "source": [
    "## module을 설치할 때 conda명령어 이용해서 설치가능 (conda에서만 가능 but conda이용 시 conda로 설치 권장)\n",
    "## python은 pip를 이용해서 module을 설치 (위에와 2가지 이용가능)\n",
    "\n",
    "## conda install numpy\n",
    "\n",
    "import numpy as np\n",
    "\n",
    "## ndarray를 생성하고 data type을 살펴보자\n",
    "\n",
    "## python list\n",
    "\n",
    "a = [1,2,3,4]\n",
    "print(\"list => {}, type => {}\".format(a,type(a)))\n",
    "\n",
    "print(\"list[0] => {}, type => {}\".format(a[0],type(a[0])))\n",
    "\n",
    "## NumPy ndarray\n",
    "\n",
    "b = np.array(a)\n",
    "print(\"ndarray => {}\".format(b))\n",
    "print(\"ndarray type => {}\".format(type(b)))\n",
    "print(\"ndarray dtype => {}\".format(b.dtype))\n",
    "## int32 => 정수형이고 32bit로 구성되어 있다!.\n",
    "## 2진수로 32개의 bit로 표현할 수 있는 최대 수\n",
    "# 2진수 1개로 표현할 수 있는 수는 2 => 2 ** 1\n",
    "# 2진수 2개로 표현할 수 있는 수는 4 => 2 ** 2\n",
    "# 2진수 3개로 표현할 수 있는 수는 8 => 2 ** 3\n",
    "# 2진수 32개로 표현할 수 있는 수는 ? => 2 ** 32\n",
    "## int64를 이용하면 더 큰 수를 표현할 수 있다!\n",
    "\n",
    "## NumPy ndarray를 만드는 가장 간단한 방법 =>\n",
    "## NumPy가 제공하는 array()함수 이용\n",
    "c = np.array([100, \"Hello\", 3.14])\n",
    "print(c) # 모두 같은 daya type이 되어야 한다!(R처럼 but 우선순위가 아닌 변환이 가능한 type으로!)\n",
    "print(c.dtype)\n",
    "print(type(c[0]))\n",
    "\n",
    "\n",
    "\n"
   ]
  },
  {
   "cell_type": "code",
   "execution_count": 2,
   "metadata": {},
   "outputs": [
    {
     "name": "stdout",
     "output_type": "stream",
     "text": [
      "[[1 2 3]\n",
      " [4 5 6]]\n",
      "6\n",
      "int32\n",
      "float64\n",
      "[[1. 2. 3.]\n",
      " [4. 5. 6.]]\n"
     ]
    }
   ],
   "source": [
    "## 다차원 numpy array를 만들어 보아요!\n",
    "\n",
    "\n",
    "# myList = [(1,2,3),(4,5,6)]\n",
    "myList = [[1,2,3],[4,5,6]]\n",
    "arr = np.array(myList) # 2차원의 ndarray\n",
    "print(arr)\n",
    "\n",
    "## 1행 2열의 값은 얼마인가요? (2행 3열)\n",
    "print(arr[1,2]) # print(arr[1][2]) 이런 형태로 쓰지 않는다!\n",
    "## index시작은 0부터!!\n",
    "## n차원의 ndarray가 어떻게 표현되는지 확인해야 한다!\n",
    "## 기본 데이터 타입은 정수일 경우 int32로 사용된다.\n",
    "\n",
    "print(arr.dtype)\n",
    "\n",
    "## 만약 데이터타입을 지정하려면\n",
    "# arr = np.array(myList, dtype=\"int64\") # 그다지 좋지 않다.\n",
    "arr = np.array(myList, dtype=np.float64) # 이렇게 사용한다.\n",
    "print(arr.dtype)\n",
    "print(arr)\n",
    "\n",
    "\n"
   ]
  },
  {
   "cell_type": "code",
   "execution_count": 3,
   "metadata": {},
   "outputs": [
    {
     "name": "stdout",
     "output_type": "stream",
     "text": [
      "3\n",
      "[[[1 2]\n",
      "  [3 4]]\n",
      "\n",
      " [[5 6]\n",
      "  [7 8]]]\n",
      "(2, 2, 2)\n"
     ]
    }
   ],
   "source": [
    "## 차원의 개수와 크기 및 axis\n",
    "\n",
    "# myList = [1,2,3,4] # 열\n",
    "# myList = [[1,2,3],[4,5,6]] # 행, 열\n",
    "# myList = [[1,2],[3,4],[5,6],[7,8]] \n",
    "myList = [[[1,2],[3,4]],[[5,6],[7,8]]]\n",
    "\n",
    "arr = np.array(myList) # python list를 이용해서 numpy array 생성\n",
    "## 이렇게 numpy array를 생성하면 차원의 개수를 알 수 있다.\n",
    "print(arr.ndim) # 차원의 개수를 알려주는 속성\n",
    "## 차원의 개수와 원소 개수를 동시에 알려주는 속성\n",
    "print(arr)\n",
    "print(arr.shape) # (4,) 1차원에 원소 4개 있다고 알려주는 의미\n",
    "                 # (2,3) 2행 3열 의미\n",
    "                 # (2,2,2) 2면 2행 2열\n",
    "                 \n"
   ]
  },
  {
   "cell_type": "code",
   "execution_count": 68,
   "metadata": {},
   "outputs": [
    {
     "name": "stdout",
     "output_type": "stream",
     "text": [
      "ndarray의 차원의 수는 : 1\n",
      "ndarray의 shape : (12,)\n",
      "ndarray의 요소개수 : 12\n",
      "ndarray의 len() : 12\n",
      "[[[ 1  2  3]\n",
      "  [ 4  5  6]]\n",
      "\n",
      " [[ 7  8  9]\n",
      "  [10 11 12]]]\n"
     ]
    }
   ],
   "source": [
    "# numpy array 차원 제어\n",
    "\n",
    "myList = [1,2,3,4,5,6,7,8,9,10,11,12]\n",
    "# myList = [[1,2,3],[4,5,6]]\n",
    "arr = np.array(myList) # ndarray 생성\n",
    "print(\"ndarray의 차원의 수는 : {}\".format(arr.ndim)) # 차원의 수\n",
    "print(\"ndarray의 shape : {}\".format(arr.shape)) # 원소의 개수\n",
    "# ndarray의 차원에 상관없이 모든 요소의 개수\n",
    "print(\"ndarray의 요소개수 : {}\".format(arr.size)) # 요소의 개수\n",
    "\n",
    "# python의 len()함수는 ndarray에 대해 적용하면 \n",
    "# 1차원의 요소개수를 리턴\n",
    "print(\"ndarray의 len() : {}\".format(len(arr))) # 1차원의 개수 ( 1차원이 2개 있는 것 )\n",
    "\n",
    "# shpe을 변경할 수 있다!\n",
    "arr.shape = (2,2,3) # tuple 괄호 생략가능\n",
    "print(arr)\n",
    "\n",
    "## 이렇게 shape을 변경할 수 있는데\n",
    "## arr.shape을 직접 바꾸는 방식은 잘 사용되지 않는다.\n",
    "## 다른 방식이 있다! reshape() 함수를 이용한다."
   ]
  },
  {
   "cell_type": "code",
   "execution_count": 73,
   "metadata": {},
   "outputs": [
    {
     "name": "stdout",
     "output_type": "stream",
     "text": [
      "dtype : float64\n",
      "[ 1.1   3.14  2.   44.    3.99]\n",
      "[ 1  3  2 44  3]\n"
     ]
    }
   ],
   "source": [
    "## numpy array의 type 변경\n",
    "arr = np.array([1.1, 3.14, 2, 44.0, 3.99])\n",
    "print(\"dtype : {}\".format(arr.dtype))\n",
    "print(arr)\n",
    "\n",
    "## ndarray의 데이터 타입을 다른형식으로 변경할 수 있다!\n",
    "int_arr = arr.astype(np.int32)\n",
    "print(int_arr) # 실수를 정수로 변환할 때 소수점 이하 버림처리\n",
    "\n"
   ]
  },
  {
   "cell_type": "code",
   "execution_count": 87,
   "metadata": {},
   "outputs": [
    {
     "name": "stdout",
     "output_type": "stream",
     "text": [
      "[[1 2 3]\n",
      " [4 5 6]]\n",
      "[[1. 1. 1.]\n",
      " [1. 1. 1.]]\n"
     ]
    }
   ],
   "source": [
    "### numpy array를 생성하는 다양한 방법\n",
    "arr = np.array([1,2,3,4]) # list를 이용해서 ndarray를 생성\n",
    "\n",
    "## 모든 원소의 값이 0인 ndarray를 원하는 shape으로 생성\n",
    "\n",
    "arr = np.zeros((3,4)) # (3,4)형태로 원소의 값이 0인 ndarray를 생성\n",
    "\n",
    "# print(arr)\n",
    "\n",
    "## 모든 원소의 값이 1인 ndarray를 원하는 shape으로 생성\n",
    "\n",
    "arr = np.ones((2,4), dtype=np.int32)\n",
    "\n",
    "# print(arr)\n",
    "\n",
    "## numpy array의 공간만 확보할 수 있다!\n",
    "## 초기화를 하지 않는다는 의미!\n",
    "\n",
    "arr = np.empty((5,7))\n",
    "\n",
    "# print(arr)\n",
    "\n",
    "## ones나 zeros는 초기화작업이 추가적으로 진행\n",
    "## array의 크기가 커지면 속도가 저하!\n",
    "\n",
    "arr = np.full((3,4),9.0) # 임의의 값으로 초기화를 진행\n",
    "\n",
    "# print(arr)\n",
    "\n",
    "arr = np.array([(1,2,3),(4,5,6)]) # 2행 3열짜리 ndarray\n",
    "print(arr)\n",
    "\n",
    "# 위에서 설명한 ones, zeros, full, empty와 같은 역할을 하면서\n",
    "# shape이 지정한 array와 같도록 만드는 함수\n",
    "\n",
    "arr_like = np.ones_like(arr, dtype=np.float64) # _like 계열 붙여서 사용가능\n",
    "print(arr_like)"
   ]
  },
  {
   "cell_type": "code",
   "execution_count": 93,
   "metadata": {},
   "outputs": [
    {
     "name": "stdout",
     "output_type": "stream",
     "text": [
      "[0.1 1.1 2.1 3.1 4.1 5.1]\n"
     ]
    }
   ],
   "source": [
    "## ndarray를 만드는 다양한 방법 - arange (=range python에서)\n",
    "\n",
    "#arr = np.arange(0,10,2) # 0부터 9까지 2씩 증가\n",
    "arr = np.arange(10) # 0부터 9까지 단조증가\n",
    "arr = np.arange(0.1,5.3) # 0.1부터 5.3 불포함 1씩 증가\n",
    "\n",
    "\n",
    "print(arr)\n",
    "\n"
   ]
  },
  {
   "cell_type": "code",
   "execution_count": 108,
   "metadata": {},
   "outputs": [
    {
     "name": "stdout",
     "output_type": "stream",
     "text": [
      "[ 0.  1.  2.  3.  4.  5.  6.  7.  8.  9. 10.]\n",
      "[ 0.          0.90909091  1.81818182  2.72727273  3.63636364  4.54545455\n",
      "  5.45454545  6.36363636  7.27272727  8.18181818  9.09090909 10.        ]\n",
      "[ 0.          0.52631579  1.05263158  1.57894737  2.10526316  2.63157895\n",
      "  3.15789474  3.68421053  4.21052632  4.73684211  5.26315789  5.78947368\n",
      "  6.31578947  6.84210526  7.36842105  7.89473684  8.42105263  8.94736842\n",
      "  9.47368421 10.        ]\n"
     ]
    },
    {
     "data": {
      "image/png": "[encoded data removed]",
      "text/plain": [
       "<Figure size 432x288 with 1 Axes>"
      ]
     },
     "metadata": {
      "needs_background": "light"
     },
     "output_type": "display_data"
    }
   ],
   "source": [
    "## ndarray를 만드는 다양한 방법 - linspace\n",
    "\n",
    "## np.linspace(start, stop, num)\n",
    "## start부터 stop까지의 법위에서 num개를 균일한 간격으로 \n",
    "## 데이터를 생성하고 ndarray로 return\n",
    "\n",
    "arr = np.linspace(0,10,11)\n",
    "print(arr)\n",
    "\n",
    "arr = np.linspace(0,10,12)\n",
    "print(arr)\n",
    "\n",
    "arr = np.linspace(0,10,20)\n",
    "print(arr)\n",
    "\n",
    "## 눈으로 보기 힘드니 그래프로 보자!\n",
    "## chart를 그리는 대표적인 package가 있다 => matplotlib\n",
    "## conda install matplotlib\n",
    "\n",
    "import matplotlib.pyplot as plt\n",
    "\n",
    "plt.plot(arr)\n",
    "plt.show()\n"
   ]
  },
  {
   "cell_type": "code",
   "execution_count": 115,
   "metadata": {},
   "outputs": [
    {
     "data": {
      "image/png": "[encoded data removed]",
      "text/plain": [
       "<Figure size 432x288 with 1 Axes>"
      ]
     },
     "metadata": {
      "needs_background": "light"
     },
     "output_type": "display_data"
    }
   ],
   "source": [
    "### NumPy Array (ndarray)\n",
    "### 특징, 여러기자 속성들(ndim, shape, ...)\n",
    "### ndarray 생성방법\n",
    "\n",
    "### 난수를 이용해서 ndarray를 생성하는 방법\n",
    "## 5가지 정도가 존재\n",
    "## np.random.nomal() : 난수를 생성해서 ndarray를 만들 수 있다.\n",
    "## ==> 정규분포 확률밀도에서 난수를 발생시킨다.\n",
    "\n",
    "import numpy as np\n",
    "import matplotlib.pyplot as plt\n",
    "\n",
    "## 평균\n",
    "\n",
    "myMean = 50\n",
    "\n",
    "## 표준편차\n",
    "\n",
    "myStd = 2 \n",
    "\n",
    "arr = np.random.normal(myMean,myStd,(10000,))\n",
    "plt.hist(arr,bins=100)\n",
    "plt.show()\n"
   ]
  },
  {
   "cell_type": "code",
   "execution_count": 123,
   "metadata": {},
   "outputs": [
    {
     "data": {
      "image/png": "[encoded data removed]",
      "text/plain": [
       "<Figure size 432x288 with 1 Axes>"
      ]
     },
     "metadata": {
      "needs_background": "light"
     },
     "output_type": "display_data"
    }
   ],
   "source": [
    "## 난수를 추출\n",
    "## [0,1) 구간에서 균등분포 활률밀도상에서 난수 추출 (0이상 1미만)\n",
    "\n",
    "arr = np.random.rand(1000)  # 3차원 1000개면 2개 행 3개 열\n",
    "                                # (1000) => 1차원, (2,3) => 2차원\n",
    "#print(arr)\n",
    "\n",
    "plt.hist(arr,bins=100)\n",
    "plt.show()"
   ]
  },
  {
   "cell_type": "code",
   "execution_count": 128,
   "metadata": {},
   "outputs": [
    {
     "data": {
      "image/png": "[encoded data removed]",
      "text/plain": [
       "<Figure size 432x288 with 1 Axes>"
      ]
     },
     "metadata": {
      "needs_background": "light"
     },
     "output_type": "display_data"
    }
   ],
   "source": [
    "## 난수를 추출\n",
    "## 표준정규분포 확률밀도상에서 난수 추출\n",
    "arr = np.random.randn(100000) # 인자의 개수로 차원을 지정\n",
    "plt.hist(arr,bins=100)\n",
    "plt.show()"
   ]
  },
  {
   "cell_type": "code",
   "execution_count": 127,
   "metadata": {},
   "outputs": [
    {
     "data": {
      "image/png": "[encoded data removed]",
      "text/plain": [
       "<Figure size 432x288 with 1 Axes>"
      ]
     },
     "metadata": {
      "needs_background": "light"
     },
     "output_type": "display_data"
    }
   ],
   "source": [
    "## 난수를 추출 (정수를 추출)\n",
    "## 주어진 범위에서 균등분포 확률밀도상에서 난수 추출\n",
    "\n",
    "arr = np.random.randint(-100,100,(100000,))\n",
    "plt.hist(arr,bins=100)\n",
    "plt.show()"
   ]
  },
  {
   "cell_type": "code",
   "execution_count": 129,
   "metadata": {},
   "outputs": [
    {
     "data": {
      "image/png": "[encoded data removed]",
      "text/plain": [
       "<Figure size 432x288 with 1 Axes>"
      ]
     },
     "metadata": {
      "needs_background": "light"
     },
     "output_type": "display_data"
    }
   ],
   "source": [
    "## 난수를 추출 (실수를 추출)\n",
    "## [0,1)에서 균등분포 확률밀도상에서 난수 추출\n",
    "arr = np.random.random((10000,))  # shape을 줘야함\n",
    "                            \n",
    "#print(arr)\n",
    "\n",
    "plt.hist(arr,bins=100)\n",
    "plt.show()"
   ]
  },
  {
   "cell_type": "code",
   "execution_count": 146,
   "metadata": {},
   "outputs": [
    {
     "name": "stdout",
     "output_type": "stream",
     "text": [
      "[4 9 6 3 3]\n"
     ]
    }
   ],
   "source": [
    "## 난수는 랜덤값이기 때문에 실행할 때마다\n",
    "## 추출되는 난수가 달라져야 한다!\n",
    "## 난수값도 사실은 알고리즘에 의해서 계산되는 값이다.\n",
    "## 알고리즘에 초기값을 고정시키면 항상 같은 난수를 얻을 수 있다!!\n",
    "## 재현성\n",
    "np.random.seed(7) # seed값을 고정해서 random값을 바꾸지 않는다.\n",
    "arr = np.random.randint(0,10,(5,)) # 0부터 10사이, 1차원 5개 정수 추출\n",
    "                                   # 균등분포!\n",
    "    \n",
    "print(arr)\n"
   ]
  },
  {
   "cell_type": "code",
   "execution_count": 13,
   "metadata": {},
   "outputs": [
    {
     "name": "stdout",
     "output_type": "stream",
     "text": [
      "<class 'numpy.ndarray'>\n",
      "[1 2 3 4]\n",
      "1\n",
      "(4,)\n",
      "[[1 2 3]\n",
      " [4 5 6]]\n",
      "6\n",
      "2\n"
     ]
    }
   ],
   "source": [
    "### 11월 19일\n",
    "### NumPy (Numerical Python)\n",
    "### ndarray라고 불리는 자료구조를 사용해요!\n",
    "\n",
    "### array : 연속적으로 할당되고 같은 데이터 타입의 데이터를 \n",
    "###         저장할 수 있는 자료구조 (배열)\n",
    "\n",
    "### 기본적으로 생성하는 방법\n",
    "\n",
    "import numpy as np\n",
    "\n",
    "arr = np.array([1,2,3,4])\n",
    "\n",
    "### python에서 built-in type\n",
    "### int, float, bool, str, list, tuple, dict, set\n",
    "### => 이 data type이라고 알고있던 것들이 실제로는 class로 존재\n",
    "###    type() 함수로 class를 알아낼 수 있다.\n",
    "\n",
    "print(type(arr))\n",
    "print(arr)\n",
    "\n",
    "## 차원\n",
    "\n",
    "print(arr.ndim)\n",
    "print(arr.shape)\n",
    "\n",
    "## 2차원 이상의 ndarray를 만들려면 어떻게 해야 하나?\n",
    "\n",
    "myList = [[1,2,3],[4,5,6]]\n",
    "arr = np.array(myList)\n",
    "print(arr)\n",
    "\n",
    "### 데이터 요소개수 알아내기\n",
    "print(arr.size)\n",
    "print(len(arr))\n",
    "\n",
    "### 다양한 생성방법\n",
    "\n",
    "### np.zeros(), np.ones(), np.full(), np.empty()\n",
    "### np.arange() - 증감식\n",
    "### np.linspace()\n",
    "### random 기반 함수들\n",
    "\n"
   ]
  },
  {
   "cell_type": "code",
   "execution_count": 88,
   "metadata": {},
   "outputs": [
    {
     "name": "stdout",
     "output_type": "stream",
     "text": [
      "[[ 0  1  2  3  4  5  6  7  8  9 10 11 12 13 14 15 16 17 18 19]\n",
      " [20 21 22 23 24 25 26 27 28 29 30 31 32 33 34 35 36 37 38 39]\n",
      " [40 41 42 43 44 45 46 47 48 49 50 51 52 53 54 55 56 57 58 59]\n",
      " [60 61 62 63 64 65 66 67 68 69 70 71 72 73 74 75 76 77 78 79]\n",
      " [80 81 82 83 84 85 86 87 88 89 90 91 92 93 94 95 96 97 98 99]]\n",
      "[ 0  1  2  3  4  5  6  7  8  9 10 11 12 13 14 15 16 17 18 19 20 21 22 23\n",
      " 24 25 26 27 28 29 30 31 32 33 34 35 36 37 38 39 40 41 42 43 44 45 46 47\n",
      " 48 49 50 51 52 53 54 55 56 57 58 59 60 61 62 63 64 65 66 67 68 69 70 71\n",
      " 72 73 74 75 76 77 78 79 80 81 82 83 84 85 86 87 88 89 90 91 92 93 94 95\n",
      " 96 97 98 99]\n",
      "[[ 0  1  2  3  4  5  6  7  8  9 10 11 12 13 14 15 16 17 18 19 20 21 22 23\n",
      "  24 25 26 27 28 29 30 31 32 33 34 35 36 37 38 39 40 41 42 43 44 45 46 47\n",
      "  48 49 50 51 52 53 54 55 56 57 58 59 60 61 62 63 64 65 66 67 68 69 70 71\n",
      "  72 73 74 75 76 77 78 79 80 81 82 83 84 85 86 87 88 89 90 91 92 93 94 95\n",
      "  96 97 98 99]]\n",
      "[[0 1 2]\n",
      " [3 4 5]]\n"
     ]
    }
   ],
   "source": [
    "### NumPy 활용에 대해 알아보자!\n",
    "\n",
    "## shape을 조절해서 내가 원하는 형태의 ndarray를 만들어 보자!\n",
    "\n",
    "import numpy as np\n",
    "\n",
    "# arr = np.arange(0,12,1)\n",
    "# print(arr)\n",
    "\n",
    "# ### 2차원으로 변경\n",
    "# ### reshape을 이용하면 view가 만들어 진다.\n",
    "# ### 데이터 원본을 바꾸는 것이 아닌 데이터를 보는 차원을 바꾼 것!\n",
    "# ### 데이터 자체는 하나! 원본을 변경하면 view data도 바뀐다.\n",
    "# ### easy : 새로운 데이터 생성이 아닌 바라보는 창을 만들어서 형태를 비추는 것\n",
    "\n",
    "# arr1 = arr.reshape(4,3) # 4행 3열\n",
    "# print(arr1)\n",
    "# arr[1] = 100\n",
    "# print(arr)\n",
    "# print(arr1)\n",
    "\n",
    "# # view는 base속성이 있다!\n",
    "# print(arr1.base is arr)\n",
    "# print(arr1.base in arr)\n",
    "# print(arr1.base == arr)\n",
    "# print(arr1 is arr)\n",
    "# # print(arr1 == arr)\n",
    "\n",
    "# ## shape을 변경해서 새로운 ndarray를 만들고 싶다!\n",
    "# arr1 = arr.reshape(4,3).copy() #  새로운 ndarray를 생성\n",
    "# print(arr1)\n",
    "\n",
    "# arr1 = arr.reshape(4,-1) # error (size 맞지 않음)\n",
    "\n",
    "# arr1 = arr.reshape(2,-1) # 앞에 채우고 남는걸로 다 만들어( \"-1\" 행 열 상관없이 가능 ) 계산 불요\n",
    "\n",
    "\n",
    "arr = np.arange(0,100,1).reshape(5,-1).copy()\n",
    "print(arr)\n",
    "\n",
    "# # 다차원배열을 1차원으로 만들 수 있다!\n",
    "\n",
    "arr2 = np.ravel(arr)\n",
    "print(arr2)\n",
    "\n",
    "arr1 = arr.reshape(1,-1).copy()\n",
    "print(arr1)\n",
    "\n",
    "## resize()는 reshape과 유사\n",
    "## reshape()은 형태가 맞지 않으면 변경시 error가 발생\n",
    "## 하지만 resize()는 형태가 맞지 않아도 변경 가능\n",
    "\n",
    "# arr = np.arange(0,10,1)\n",
    "# print(arr)\n",
    "# # resize()를 이용하는 1번째 방법\n",
    "# arr1 = np.resize(arr,(2,6)) # 변경된 ndarray를 return\n",
    "# print(arr1) # 모자란 배열의 요소는 값의 시작부터 다시 추가(순환)\n",
    "\n",
    "# arr1 = np.resize(arr,(2,3)) \n",
    "# print(arr1) # 남는 배열의 요소는 버림\n",
    "\n",
    "## resize()를 이용하는 2번째 방법\n",
    "## ndarray를 직접 이용하는 방법\n",
    "\n",
    "arr = np.arange(0,10,1)\n",
    "result = arr.resize(2,3) ## 원본이 바뀌니까 결과값 자체를 호출해야지 return 안됌!\n",
    "print(arr)\n"
   ]
  },
  {
   "cell_type": "code",
   "execution_count": 89,
   "metadata": {},
   "outputs": [
    {
     "name": "stdout",
     "output_type": "stream",
     "text": [
      "[[7 5 1]\n",
      " [2 4 8]]\n",
      "[[6 4 8 6 2 6]\n",
      " [8 9 3 4 8 9]]\n",
      "[[7 5 1 6 4 8 6 2 6]\n",
      " [2 4 8 8 9 3 4 8 9]]\n",
      "[[9 7 2]\n",
      " [0 4 8]\n",
      " [5 5 1]\n",
      " [2 0 7]\n",
      " [5 6 2]\n",
      " [2 8 0]\n",
      " [7 9 0]\n",
      " [8 4 5]]\n"
     ]
    }
   ],
   "source": [
    "## NumPy array를 가로방향 혹인 세로방향으로 결합\n",
    "## 모양만 맞추면 된다!\n",
    "\n",
    "# 2행 3열짜리 ndarray를 생성\n",
    "# 정수로 생성, 랜덤하게 균등분포로 0~10사이에서 추출\n",
    "# 6개를 추출해서 2차원 ndarray로 생성\n",
    "np.random.seed(1111)\n",
    "arr1 = np.random.randint(0,10,(2,3))\n",
    "print(arr1)\n",
    "\n",
    "## 가로방향 - 행의 개수가 맞아야 함 (열 노상관)\n",
    "arr2 = np.random.randint(0,10,(2,6))\n",
    "print(arr2)\n",
    "\n",
    "result = np.hstack((arr1,arr2)) # tuple로 잡아야함 # 아니면 error\n",
    "print(result)\n",
    "\n",
    "## 세로방향 - 열의 개수가 맞아야 함 ( 행 노상관)\n",
    "arr1 = np.random.randint(0,10,(5,3))\n",
    "arr2 = np.random.randint(0,10,(3,3))\n",
    "result = np.vstack((arr1,arr2)) # tuple로 잡아야함 # 아니면 error\n",
    "print(result)\n",
    "\n",
    "################################################################\n",
    "# ndarray 생성, 특징\n",
    "# reshape,resize => view개념( 메모리를 효율적으로 사용하기 위해 )\n",
    "# 여러개의 ndarray를 결합할 수 있다.\n",
    "# 이제 indexing과 slicing에 대한 얘기만 하면 된다!"
   ]
  },
  {
   "cell_type": "code",
   "execution_count": 124,
   "metadata": {},
   "outputs": [
    {
     "name": "stdout",
     "output_type": "stream",
     "text": [
      "[[ 0  1  2  3]\n",
      " [ 4  5  6  7]\n",
      " [ 8  9 10 11]]\n",
      "6\n",
      "6\n",
      "[0 4 8]\n",
      "[[0]\n",
      " [4]\n",
      " [8]]\n",
      "[ 5  6  9 10]\n"
     ]
    }
   ],
   "source": [
    "## NumPy array indexing과 slicing\n",
    "\n",
    "# arr = np.arange(10,20,1)\n",
    "# print(arr)\n",
    "\n",
    "# for i in arr:                     # data만 추출해서 사용하는 for\n",
    "#     print(\"data : {}\".format(i))\n",
    "    \n",
    "# for idx,data in enumerate(arr):    # data와 index 함께 뽑아내는 방식\n",
    "#     print(\"data : {} , count : {}\".format(data, idx))\n",
    "\n",
    "# arr = np.arange(0,5,1)\n",
    "# print(arr)\n",
    "# print(arr[2]) # indxing\n",
    "# print(arr[1:3])\n",
    "# print(type(arr[1:3]))\n",
    "# print(arr[:3]) # [0 1 2]\n",
    "# print(arr[2:]) # [2 3 4]\n",
    "# print(arr[1:]) # [1 2 3 4]\n",
    "# print(arr[::2]) # [0 2 4]\n",
    "# print(arr[::-1]) # [4 3 2 1 0]\n",
    "# print(arr[:-1]) # [0 1 2 3] \n",
    "# print(arr[-1:]) # [4]\n",
    "\n",
    "\n",
    "arr = np.arange(0,12,1).reshape(3,4).copy()\n",
    "print(arr)\n",
    "print(arr[1,][2]) # 6\n",
    "print(arr[1,2]) # 6\n",
    "print(arr[:,0]) # [0 4 8] \n",
    "print(arr[:,0:1]) # [[0]\n",
    "#                    [4]\n",
    "#                    [8]]\n",
    "\n",
    "print(arr[1:3,1:3].ravel())\n",
    "\n",
    "\n"
   ]
  },
  {
   "cell_type": "code",
   "execution_count": 176,
   "metadata": {},
   "outputs": [
    {
     "name": "stdout",
     "output_type": "stream",
     "text": [
      "[[ 0  1  2  3]\n",
      " [ 4  5  6  7]\n",
      " [ 8  9 10 11]]\n",
      "[[ 5  6]\n",
      " [ 9 10]]\n",
      "[[ 5  6]\n",
      " [ 9 10]]\n",
      "[[ 5  6]\n",
      " [ 9 10]]\n",
      "[[ 5  6]\n",
      " [ 9 10]]\n"
     ]
    }
   ],
   "source": [
    "## Boolean Indexing & Fancy Indexing\n",
    "## boolean indexing은 mask를 이용해서 배열의 각 요소의 \n",
    "## 선택여부를 True, False로 지정해서 True요소만 선택하는 방식\n",
    "\n",
    "## 정수형 난수를 추출해 보자\n",
    "\n",
    "# np.random.seed(1)\n",
    "# arr = np.random.randint(0,10,(10,))\n",
    "# print(arr)\n",
    "\n",
    "# ## 여기서 짝수만 추출\n",
    "    \n",
    "# x = []\n",
    "# for i in arr:\n",
    "#     if i % 2 == 0:\n",
    "#         x.append(i)\n",
    "# test = np.array(x)\n",
    "# print(test)\n",
    "\n",
    "# ## logic 이용해서 할 수는 있지만 좀 그르타!\n",
    "\n",
    "## 1. 조건에 맞는 mask를 만들자!\n",
    "## mask는 list안에 True, False가 들어간 형태\n",
    "# print(arr % 2 == 0) # 사칙연산에서 논리연산으로 바뀜\n",
    "\n",
    "## arr 의 mask = [False  True False False  True  True False False  True False]\n",
    "\n",
    "# print(arr[arr % 2 == 0]) # [8 0 0 6] boolean indexing 꼭 잘 알아두자!\n",
    "\n",
    "## Fancy Indexing\n",
    "# indexing을 할 때 배열을 이용해서 배열 요소를 찾는 방식\n",
    "\n",
    "arr = np.arange(0,12,1).reshape(3,4).copy()\n",
    "print(arr)\n",
    "\n",
    "# print(arr[2,2]) # 10\n",
    "# print(arr[1:2,2]) # [6]\n",
    "\n",
    "# print(arr[[0,2],2]) # [[행,행],열] [ 2 10]\n",
    "# print(arr[[0,2],1:]) # 1행 3행에서 1열부터 모두\n",
    "\n",
    "# print(arr[:,[0,2]]) # 모든 행 1열 3열\n",
    "\n",
    "print(arr[[1,2],1:3])  # 행과 열 둘다 fancy indexing은 안되니 둘중 하나 \n",
    "                       # fancy 잡고 한쪽은 범위 잡아서 뽑아야 한다!\n",
    "    \n",
    "print(arr[1:,[1,2]])\n",
    "\n",
    "print(arr[[1,2]][:,[1,2]])\n",
    "\n",
    "print(arr[np.ix_([1,2],[1,2])]) # 함수를 사용한 팬시인덱싱 두번 처리하기"
   ]
  },
  {
   "cell_type": "code",
   "execution_count": 187,
   "metadata": {},
   "outputs": [],
   "source": [
    "## ndarray의 연산\n",
    "## R의 vector연산과 유사\n",
    "\n",
    "np.random.seed(1)\n",
    "\n",
    "arr1 = np.arange(1,7,1).reshape(2,3).copy()\n",
    "arr2 = np.random.randint(1,10,(2,3))\n",
    "# print(arr1)\n",
    "# print(arr2)\n",
    "\n",
    "# print(arr1 + arr2)\n",
    "# print(arr1 * arr2)\n",
    "# ## python list연산은 연결되지만 ndarray에서는 vector연산으로 처리된다.\n",
    "\n",
    "# print(arr1 + 10) # 원래는 연산이 안되여 정상\n",
    "                 # 타입이 안맞는 경우 scalar 값을 broadcasting 시킨다. (행과 열을 늘려서 연산)\n",
    "                 # 2행 3열 짜리 10이 들어간 ndarray로 맞춰서 연산 => broadcasting\n",
    "\n",
    "# arr2 = np.array([1,2,3])\n",
    "# print(arr1 + arr2) # 1차 배열 [1,2,3]을 => \"[[1,2,3][1,2,3]]\" [1,2,3] 행을 2개 가진 2행 3열로 바뀌어서 계산\n",
    "\n",
    "arr2 = np.array([1,2])\n",
    "# print(arr1 + arr2) # error\n",
    "\n",
    "\n",
    "\n"
   ]
  },
  {
   "cell_type": "code",
   "execution_count": 235,
   "metadata": {},
   "outputs": [
    {
     "name": "stdout",
     "output_type": "stream",
     "text": [
      "[[6 9 6 1 1]\n",
      " [2 8 7 3 5]]\n",
      "[6 9 6 8 7]\n",
      "5\n"
     ]
    }
   ],
   "source": [
    "## 기본적인 집계(통계)함수\n",
    "\n",
    "# arr = np.arange(0,12,1).reshape(3,4).copy()\n",
    "# print(arr)\n",
    "# print(np.sum(arr)) # numpy가 가지고 있는 함수 사용\n",
    "# print(arr.sum()) # numpy가 가지고 있는 method 사용( 해당 class 사용 )\n",
    "\n",
    "# print(np.cumsum(arr)) # 1차원으로 변환한 누적 값 \n",
    "# print(np.mean(arr))\n",
    "# print(np.max(arr))\n",
    "# print(np.min(arr))\n",
    "# print(np.std(arr)) # 표편\n",
    "# print(np.sqrt(arr)) # 각각의 제곱근\n",
    "# print(np.log10(arr)) # 자연로그 상용로그 둘다 가능\n",
    "\n",
    "## 축 개념을 알아보자.\n",
    "## 위에 있는 집계함수를 이용할 때 aixs 개념을 사용한다.\n",
    "## 만약 axis를 명시하지 않으면 axis를 None으로 설정하고\n",
    "## 대상범위를 전체 ndarray로 지정\n",
    "\n",
    "# 1차원.ndarray\n",
    "\n",
    "# arr = np.arange(0,5,1)\n",
    "# print(arr)\n",
    "# print(arr.sum()) # axis 설정 x\n",
    "# print(arr.sum(axis=0)) # axis=0 설정 열 방향\n",
    "\n",
    "# 2차원.ndarray\n",
    "\n",
    "# arr = np.arange(0,12,1).reshape(3,4).copy()\n",
    "# print(arr)\n",
    "# print(arr.sum(axis=1)) # 2차원에서 axis=0 이 행방향 더하기\n",
    "#                        # 2차원에서 axis=1 이 열방향 더하기\n",
    "    \n",
    "##########\n",
    "## 당연하게 일반 로직을 짜는 것 보다 \n",
    "## 집계함수를 이용해서 처리하는 것이 훨씬 효율적 이다.\n",
    "\n",
    "\n",
    "## 응용\n",
    "np.random.seed(1)\n",
    "arr = np.random.randint(1,10,(2,5))\n",
    "print(arr)\n",
    "print(arr[arr > 5])\n",
    "# np.sum(arr>5)\n",
    "print(arr[arr > 5].size)\n",
    "\n"
   ]
  },
  {
   "cell_type": "code",
   "execution_count": 242,
   "metadata": {},
   "outputs": [
    {
     "name": "stdout",
     "output_type": "stream",
     "text": [
      "[[ 0  1  2  3]\n",
      " [ 8  9 10 11]]\n",
      "[[ 0  2  3]\n",
      " [ 4  6  7]\n",
      " [ 8 10 11]]\n"
     ]
    }
   ],
   "source": [
    "## delete() 함수는 axis를 기준으로 행과 열을 삭제\n",
    "## axis를 지정하지 않으면 1차배열로 변환한 후 해당 요소를 삭제\n",
    "## 원본은 유지하고 삭제된 복사본을 return\n",
    "\n",
    "\n",
    "# arr = np.arange(0,12,1).reshape(3,4).copy()\n",
    "# print(arr)\n",
    "\n",
    "# # axis default값으로 삭제\n",
    "\n",
    "# result = np.delete(arr,1) # 1차원 배열로 변환후 해당 인덱스를 삭제 (,i) 인덱스\n",
    "# print(result)\n",
    "\n",
    "# axis 지정\n",
    "result = np.delete(arr, 1, axis=0) # 행방향 해당 인덱스를 삭제 - 2행 삭제 후 리턴\n",
    "print(result)\n",
    "\n",
    "result = np.delete(arr, 1, axis=1) # 열방향 해당 인덱스를 삭제 - 2열 삭제 후 리턴\n",
    "print(result)\n"
   ]
  }
 ],
 "metadata": {
  "kernelspec": {
   "display_name": "[CPU_ENV]",
   "language": "python",
   "name": "cpu_env"
  },
  "language_info": {
   "codemirror_mode": {
    "name": "ipython",
    "version": 3
   },
   "file_extension": ".py",
   "mimetype": "text/x-python",
   "name": "python",
   "nbconvert_exporter": "python",
   "pygments_lexer": "ipython3",
   "version": "3.6.9"
  }
 },
 "nbformat": 4,
 "nbformat_minor": 2
}
