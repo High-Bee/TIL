{
 "cells": [
  {
   "cell_type": "code",
   "execution_count": 6,
   "metadata": {},
   "outputs": [
    {
     "data": {
      "text/plain": [
       "'\\n\\npython의 장점\\n- 상대적으로 쉬운 언어\\n- 강력한 데이터 분석 library(현재 가장인기가 좋다!)\\n- Open Source\\n- R에 비해서 범용적인 사용이 가능\\n- 데이터 분석 결과를 다른 시스템과 연동시킬때 좋다!\\n- 하위 호환성은 없다.( 2. 버전과 3, 버전이 다르다.)\\n- PyCharm 혹은 jupyter notebook으로 작업한다.\\n'"
      ]
     },
     "execution_count": 6,
     "metadata": {},
     "output_type": "execute_result"
    }
   ],
   "source": [
    "# 한줄주석 R의 주석과 같아요오오오오\n",
    "# 여러줄 주석처리 ''' ''',\"\"\" \"\"\"\n",
    "\n",
    "'''\n",
    "\n",
    "python의 장점\n",
    "- 상대적으로 쉬운 언어\n",
    "- 강력한 데이터 분석 library(현재 가장인기가 좋다!)\n",
    "- Open Source\n",
    "- R에 비해서 범용적인 사용이 가능\n",
    "- 데이터 분석 결과를 다른 시스템과 연동시킬때 좋다!\n",
    "- 하위 호환성은 없다.( 2. 버전과 3, 버전이 다르다.)\n",
    "- PyCharm 혹은 jupyter notebook으로 작업한다.\n",
    "'''"
   ]
  },
  {
   "cell_type": "code",
   "execution_count": 10,
   "metadata": {},
   "outputs": [
    {
     "name": "stdout",
     "output_type": "stream",
     "text": [
      "['False', 'None', 'True', 'and', 'as', 'assert', 'break', 'class', 'continue', 'def', 'del', 'elif', 'else', 'except', 'finally', 'for', 'from', 'global', 'if', 'import', 'in', 'is', 'lambda', 'nonlocal', 'not', 'or', 'pass', 'raise', 'return', 'try', 'while', 'with', 'yield']\n"
     ]
    }
   ],
   "source": [
    "# python의 키워드\n",
    "\n",
    "# keyword module을 로딩해야 한다!\n",
    "import keyword\n",
    "\n",
    "# output영역에 출력할 때 사용하는 함수 : print()\n",
    "print(keyword.kwlist)\n",
    "\n",
    "\n",
    "# jupyter notebook hotkey(단축키)\n",
    "# L : line 번호 토글 키\n",
    "# O : output 창 토글 키\n",
    "# A : 위 쪽 영역에 cell 삽입\n",
    "# B : 아래 쪽 영역에 cell 삽입\n",
    "# D.D : 현재 cell 삭제\n",
    "# Ctrl + Enter : 현재 cell 실행\n",
    "# Alt + Enter : 현재 cell 실행 후 아래 cell 삽입\n",
    "# Shift + Enter : 현재 cell 실행 후 아래 cell 선택"
   ]
  },
  {
   "cell_type": "code",
   "execution_count": 30,
   "metadata": {},
   "outputs": [
    {
     "name": "stdout",
     "output_type": "stream",
     "text": [
      "100\n",
      "200\n",
      "var2 의 값은 : 200\n"
     ]
    },
    {
     "ename": "NameError",
     "evalue": "name 'var2' is not defined",
     "output_type": "error",
     "traceback": [
      "\u001b[1;31m---------------------------------------------------------------------------\u001b[0m",
      "\u001b[1;31mNameError\u001b[0m                                 Traceback (most recent call last)",
      "\u001b[1;32m<ipython-input-30-d4f8a021291c>\u001b[0m in \u001b[0;36m<module>\u001b[1;34m\u001b[0m\n\u001b[0;32m      9\u001b[0m \u001b[0mprint\u001b[0m\u001b[1;33m(\u001b[0m\u001b[1;34m\"var2 의 값은 :\"\u001b[0m\u001b[1;33m,\u001b[0m \u001b[0mvar2\u001b[0m\u001b[1;33m)\u001b[0m \u001b[1;31m# 인자를 여러개 줄 수 있다.\u001b[0m\u001b[1;33m\u001b[0m\u001b[1;33m\u001b[0m\u001b[0m\n\u001b[0;32m     10\u001b[0m \u001b[1;32mdel\u001b[0m \u001b[0mvar2\u001b[0m\u001b[1;33m;\u001b[0m \u001b[1;31m# var2를 메모리에서 삭제\u001b[0m\u001b[1;33m\u001b[0m\u001b[1;33m\u001b[0m\u001b[0m\n\u001b[1;32m---> 11\u001b[1;33m \u001b[0mvar2\u001b[0m\u001b[1;33m\u001b[0m\u001b[1;33m\u001b[0m\u001b[0m\n\u001b[0m",
      "\u001b[1;31mNameError\u001b[0m: name 'var2' is not defined"
     ]
    }
   ],
   "source": [
    "## 변수 생성, 삭제\n",
    "\n",
    "var1 = 100   # ; 은 생략가능 (문장이 뒤에 없다면)\n",
    "var2 = 200\n",
    "var1\n",
    "var2 # 라인 마지막것만 출력\n",
    "print(var1) # output에 출력할 때 print이용해보자\n",
    "print(var2)\n",
    "print(\"var2 의 값은 :\", var2) # 인자를 여러개 줄 수 있다.\n",
    "del var2; # var2를 메모리에서 삭제\n",
    "var2"
   ]
  },
  {
   "cell_type": "code",
   "execution_count": null,
   "metadata": {},
   "outputs": [],
   "source": []
  }
 ],
 "metadata": {
  "kernelspec": {
   "display_name": "[CPU_ENV]",
   "language": "python",
   "name": "cpu_env"
  },
  "language_info": {
   "codemirror_mode": {
    "name": "ipython",
    "version": 3
   },
   "file_extension": ".py",
   "mimetype": "text/x-python",
   "name": "python",
   "nbconvert_exporter": "python",
   "pygments_lexer": "ipython3",
   "version": "3.6.9"
  }
 },
 "nbformat": 4,
 "nbformat_minor": 2
}
