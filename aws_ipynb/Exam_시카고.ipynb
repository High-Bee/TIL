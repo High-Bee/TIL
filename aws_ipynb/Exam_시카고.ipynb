{
 "cells": [
  {
   "cell_type": "code",
   "execution_count": null,
   "metadata": {},
   "outputs": [],
   "source": [
    "from bs4 import BeautifulSoup"
   ]
  },
  {
   "cell_type": "markdown",
   "metadata": {},
   "source": [
    "web scrapying 연습문제##################################################\n",
    "#스크래핑할 웹 사이트 URL \n",
    "url <- 'https://www.imdb.com/search/title/?count=100&release_date=2019,2019&title_type=feature'\n",
    " https://www.imdb.com/search/title/?count=100&release_date=2018,2018&title_type=feature\n",
    "\n",
    "http://www.imdb.com/search/title?count=100&release_date=2017,2017&title_type=feature\n",
    "스크래핑할 데이터 - rank, title, description, runtime, genre, rating, metascore, votes, gross_earning_in_Mil, director, actor\n",
    "\n",
    "스크래핑한 데이터 pandas의 data.frame으로 변환하여 2017bestfilms.csv파일로 저장  \n"
   ]
  },
  {
   "cell_type": "code",
   "execution_count": 82,
   "metadata": {},
   "outputs": [],
   "source": [
    "from bs4 import BeautifulSoup\n",
    "from urllib.request import *\n",
    "import requests\n",
    "import re"
   ]
  },
  {
   "cell_type": "code",
   "execution_count": 124,
   "metadata": {},
   "outputs": [
    {
     "data": {
      "text/plain": [
       "[<a href=\"/title/tt6751668/\">Gisaengchung</a>,\n",
       " <a href=\"/title/tt2584384/\">Jojo Rabbit</a>,\n",
       " <a href=\"/title/tt8579674/\">1917</a>,\n",
       " <a href=\"/title/tt7286456/\">Joker</a>,\n",
       " <a href=\"/title/tt7131622/\">Once Upon a Time ...in Hollywood</a>,\n",
       " <a href=\"/title/tt5727208/\">Uncut Gems</a>,\n",
       " <a href=\"/title/tt8946378/\">Knives Out</a>,\n",
       " <a href=\"/title/tt3281548/\">Little Women</a>,\n",
       " <a href=\"/title/tt1950186/\">Ford v Ferrari</a>,\n",
       " <a href=\"/title/tt7653254/\">Marriage Story</a>,\n",
       " <a href=\"/title/tt8367814/\">The Gentlemen</a>,\n",
       " <a href=\"/title/tt1302006/\">The Irishman</a>,\n",
       " <a href=\"/title/tt6394270/\">Bombshell</a>,\n",
       " <a href=\"/title/tt7549996/\">Judy</a>,\n",
       " <a href=\"/title/tt5606664/\">Doctor Sleep</a>,\n",
       " <a href=\"/title/tt7984734/\">The Lighthouse</a>,\n",
       " <a href=\"/title/tt1979376/\">Toy Story 4</a>,\n",
       " <a href=\"/title/tt5033998/\">Charlie's Angels</a>,\n",
       " <a href=\"/title/tt8772262/\">Midsommar</a>,\n",
       " <a href=\"/title/tt4520988/\">Frozen II</a>,\n",
       " <a href=\"/title/tt7975244/\">Jumanji: The Next Level</a>,\n",
       " <a href=\"/title/tt6924650/\">Midway</a>,\n",
       " <a href=\"/title/tt3224458/\">A Beautiful Day in the Neighborhood</a>,\n",
       " <a href=\"/title/tt6445414/\">The Coldest Game</a>,\n",
       " <a href=\"/title/tt8151874/\">Honey Boy</a>,\n",
       " <a href=\"/title/tt6450804/\">Terminator: Dark Fate</a>,\n",
       " <a href=\"/title/tt8688634/\">21 Bridges</a>,\n",
       " <a href=\"/title/tt2527338/\">Star Wars: Episode IX - The Rise of Skywalker</a>,\n",
       " <a href=\"/title/tt6105098/\">The Lion King</a>,\n",
       " <a href=\"/title/tt4648786/\">Harriet</a>,\n",
       " <a href=\"/title/tt5697572/\">Cats</a>,\n",
       " <a href=\"/title/tt4154796/\">Avengers: Endgame</a>,\n",
       " <a href=\"/title/tt5073642/\">Color Out of Space</a>,\n",
       " <a href=\"/title/tt8404614/\">The Two Popes</a>,\n",
       " <a href=\"/title/tt0437086/\">Alita: Battle Angel</a>,\n",
       " <a href=\"/title/tt8816194/\">Come to Daddy</a>,\n",
       " <a href=\"/title/tt2935510/\">Ad Astra</a>,\n",
       " <a href=\"/title/tt2066051/\">Rocketman</a>,\n",
       " <a href=\"/title/tt5503686/\">Hustlers</a>,\n",
       " <a href=\"/title/tt8106534/\">6 Underground</a>,\n",
       " <a href=\"/title/tt8613070/\">Portrait de la jeune fille en feu</a>,\n",
       " <a href=\"/title/tt4364194/\">The Peanut Butter Falcon</a>,\n",
       " <a href=\"/title/tt7958736/\">Ma</a>,\n",
       " <a href=\"/title/tt8291806/\">Dolor y gloria</a>,\n",
       " <a href=\"/title/tt1560220/\">Zombieland: Double Tap</a>,\n",
       " <a href=\"/title/tt1489887/\">Booksmart</a>,\n",
       " <a href=\"/title/tt6513120/\">Fighting with My Family</a>,\n",
       " <a href=\"/title/tt5974030/\">The Jesus Rolls</a>,\n",
       " <a href=\"/title/tt3513548/\">Richard Jewell</a>,\n",
       " <a href=\"/title/tt6139732/\">Aladdin</a>,\n",
       " <a href=\"/title/tt4777008/\">Maleficent: Mistress of Evil</a>,\n",
       " <a href=\"/title/tt9071322/\">Dark Waters</a>,\n",
       " <a href=\"/title/tt1025100/\">Gemini Man</a>,\n",
       " <a href=\"/title/tt0385887/\">Motherless Brooklyn</a>,\n",
       " <a href=\"/title/tt4916630/\">Just Mercy</a>,\n",
       " <a href=\"/title/tt7984766/\">The King</a>,\n",
       " <a href=\"/title/tt7349950/\">It Chapter Two</a>,\n",
       " <a href=\"/title/tt6146586/\">John Wick: Chapter 3 - Parabellum</a>,\n",
       " <a href=\"/title/tt4126476/\">After</a>,\n",
       " <a href=\"/title/tt7798634/\">Ready or Not</a>,\n",
       " <a href=\"/title/tt2076298/\">Yip Man 4</a>,\n",
       " <a href=\"/title/tt0448115/\">Shazam!</a>,\n",
       " <a href=\"/title/tt6806448/\">Fast &amp; Furious Presents: Hobbs &amp; Shaw</a>,\n",
       " <a href=\"/title/tt7347846/\">The Lodge</a>,\n",
       " <a href=\"/title/tt9134216/\">Playing with Fire</a>,\n",
       " <a href=\"/title/tt6320628/\">Spider-Man: Far from Home</a>,\n",
       " <a href=\"/title/tt6828390/\">Mr. Jones</a>,\n",
       " <a href=\"/title/tt8623904/\">Last Christmas</a>,\n",
       " <a href=\"/title/tt0783640/\">The Last Full Measure</a>,\n",
       " <a href=\"/title/tt7083526/\">Breakthrough</a>,\n",
       " <a href=\"/title/tt6398184/\">Downton Abbey</a>,\n",
       " <a href=\"/title/tt1206885/\">Rambo: Last Blood</a>,\n",
       " <a href=\"/title/tt6857112/\">Us</a>,\n",
       " <a href=\"/title/tt6521876/\">Jay and Silent Bob Reboot</a>,\n",
       " <a href=\"/title/tt5563334/\">The Good Liar</a>,\n",
       " <a href=\"/title/tt8637428/\">The Farewell</a>,\n",
       " <a href=\"/title/tt5668770/\">Mardaani 2</a>,\n",
       " <a href=\"/title/tt4729430/\">Klaus</a>,\n",
       " <a href=\"/title/tt8652728/\">Waves</a>,\n",
       " <a href=\"/title/tt5827916/\">A Hidden Life</a>,\n",
       " <a href=\"/title/tt2139881/\">Long Shot</a>,\n",
       " <a href=\"/title/tt4154664/\">Captain Marvel</a>,\n",
       " <a href=\"/title/tt6902676/\">Guns Akimbo</a>,\n",
       " <a href=\"/title/tt6439020/\">The Personal History of David Copperfield</a>,\n",
       " <a href=\"/title/tt5598292/\">Polaroid</a>,\n",
       " <a href=\"/title/tt8722346/\">Queen &amp; Slim</a>,\n",
       " <a href=\"/title/tt8079248/\">Yesterday</a>,\n",
       " <a href=\"/title/tt8649186/\">Boze Cialo</a>,\n",
       " <a href=\"/title/tt2404465/\">Troop Zero</a>,\n",
       " <a href=\"/title/tt3741700/\">Godzilla: King of the Monsters</a>,\n",
       " <a href=\"/title/tt10039344/\">Countdown</a>,\n",
       " <a href=\"/title/tt6189022/\">Angel Has Fallen</a>,\n",
       " <a href=\"/title/tt6218010/\">Tayna pechati drakona</a>,\n",
       " <a href=\"/title/tt1620981/\">The Addams Family</a>,\n",
       " <a href=\"/title/tt8647310/\">Buffaloed</a>,\n",
       " <a href=\"/title/tt5116302/\">Togo</a>,\n",
       " <a href=\"/title/tt4844140/\">True History of the Kelly Gang</a>,\n",
       " <a href=\"/title/tt7456310/\">Anna</a>,\n",
       " <a href=\"/title/tt2274648/\">Hellboy</a>,\n",
       " <a href=\"/title/tt7343762/\">Good Boys</a>]"
      ]
     },
     "execution_count": 124,
     "metadata": {},
     "output_type": "execute_result"
    }
   ],
   "source": [
    "url = \"https://www.imdb.com/search/title/?count=100&release_date=2019,2019&title_type=feature\" \n",
    "res = requests.get(url)\n",
    "html = res.text\n",
    "bs = BeautifulSoup(html, 'html.parser')\n",
    "titles = bs.select('div > h3 > a')\n",
    "titles\n",
    "#main > div > div.lister.list.detail.sub-list > div > div:nth-child(1) > div.lister-item-content > h3 > a"
   ]
  },
  {
   "cell_type": "code",
   "execution_count": 119,
   "metadata": {},
   "outputs": [
    {
     "data": {
      "text/plain": [
       "100"
      ]
     },
     "execution_count": 119,
     "metadata": {},
     "output_type": "execute_result"
    }
   ],
   "source": [
    "len(titles)"
   ]
  },
  {
   "cell_type": "code",
   "execution_count": 197,
   "metadata": {
    "scrolled": true
   },
   "outputs": [
    {
     "ename": "AttributeError",
     "evalue": "'NoneType' object has no attribute 'text'",
     "output_type": "error",
     "traceback": [
      "\u001b[0;31m---------------------------------------------------------------------------\u001b[0m",
      "\u001b[0;31mAttributeError\u001b[0m                            Traceback (most recent call last)",
      "\u001b[0;32m<timed exec>\u001b[0m in \u001b[0;36m<module>\u001b[0;34m\u001b[0m\n",
      "\u001b[0;31mAttributeError\u001b[0m: 'NoneType' object has no attribute 'text'"
     ]
    }
   ],
   "source": [
    "%%time\n",
    "\n",
    "movie_rank = []\n",
    "movie_title= []\n",
    "movie_description= []\n",
    "movie_runtime = []\n",
    "movie_genre = []\n",
    "movie_rating = []\n",
    "movie_metascore = []\n",
    "movie_votes = []\n",
    "movie_gross_earning_in_Mil= []\n",
    "movie_director= []\n",
    "movie_actor= []\n",
    "\n",
    "\n",
    "\n",
    "for i in range(len(titles)):\n",
    "    link = titles[i][\"href\"]\n",
    "    m_link = \"https://www.imdb.com/\" + link\n",
    "    page = requests.get(m_link)\n",
    "    html = page.text\n",
    "    bs = BeautifulSoup(html, 'html.parser')\n",
    "#     print(html)\n",
    "    \n",
    "    movie_rank.append(i+1)\n",
    "    \n",
    "    title = bs.select_one('div > h1').text.replace(\"\\n\",\"\",4).strip()\n",
    "    movie_title.append(title)\n",
    "    \n",
    "    description = bs.select_one(\"div.plot_summary_wrapper > div.plot_summary > div.summary_text\").text.replace(\"\\n\",\"\",4).strip()\n",
    "    movie_description.append(description)\n",
    "    \n",
    "    runtime = bs.select_one(\"div > time\").text.replace(\"\\n\",\"\",4).strip()\n",
    "    movie_runtime.append(runtime)\n",
    "    \n",
    "    genre = bs.select_one(\"#titleStoryLine > div:nth-child(10)\").text.replace(\"\\n\",\"\",4).strip()\n",
    "    movie_genre.append(genre)\n",
    "    \n",
    "    rating = bs.select_one(\" div > strong > span\").text.replace(\"\\n\",\"\",4).strip()\n",
    "    movie_rating.append(rating)\n",
    "    \n",
    "    metascore = bs.select_one(\"div.plot_summary_wrapper > div.titleReviewBar > div:nth-child(1) > a > div > span\").text.replace(\"\\n\",\"\",4).strip()\n",
    "    movie_metascore.append(metascore)\n",
    "    \n",
    "    votes = bs.select_one(\"div > div.ratings_wrapper > div.imdbRating > a > span\").text.replace(\"\\n\",\"\",4).strip()\n",
    "    movie_votes.append(votes)\n",
    "    \n",
    "#     gross = bs.select_one(\"div.main > div.article > div.txt-block\").text.replace(\"\\n\",\"\",4).strip()\n",
    "#     movie_gross_earning_in_Mil.append(gross)\n",
    "    \n",
    "    director = bs.select_one(\"div.plot_summary_wrapper > div.plot_summary > div:nth-child(2)\").text.replace(\"\\n\",\"\",4).strip()\n",
    "    movie_director.append(director)\n",
    "    \n",
    "    actor = bs.select_one(\"div.plot_summary_wrapper > div.plot_summary > div:nth-child(4)\").text.replace(\"\\n\",\"\",4).strip()\n",
    "    movie_actor.append(actor)\n",
    "    \n",
    "#titleDetails > div\n",
    "  #titleDetails > div:nth-child(13)  \n",
    "# <a href=\"/title/tt6751668/?ref_=adv_li_tt\">Gisaengchung</a>\n",
    "#main > div > div.lister.list.detail.sub-list > div > div:nth-child(1) > div.lister-item-content > h3 > a\n",
    "#main > div > div.lister.list.detail.sub-list > div > div:nth-child(1) > div.lister-item-content > h3\n",
    "#main > div\n",
    "#title-overview-widget > div.plot_summary_wrapper > div.plot_summary > div:nth-child(4)"
   ]
  },
  {
   "cell_type": "code",
   "execution_count": 198,
   "metadata": {},
   "outputs": [
    {
     "ename": "AttributeError",
     "evalue": "'NoneType' object has no attribute 'text'",
     "output_type": "error",
     "traceback": [
      "\u001b[0;31m---------------------------------------------------------------------------\u001b[0m",
      "\u001b[0;31mAttributeError\u001b[0m                            Traceback (most recent call last)",
      "\u001b[0;32m<ipython-input-198-d4119d1aba67>\u001b[0m in \u001b[0;36m<module>\u001b[0;34m\u001b[0m\n\u001b[0;32m----> 1\u001b[0;31m \u001b[0mbs\u001b[0m\u001b[0;34m.\u001b[0m\u001b[0mselect_one\u001b[0m\u001b[0;34m(\u001b[0m\u001b[0;34m\"div.plot_summary_wrapper > div.titleReviewBar > div:nth-child(1) > a > div > span\"\u001b[0m\u001b[0;34m)\u001b[0m\u001b[0;34m.\u001b[0m\u001b[0mtext\u001b[0m\u001b[0;34m.\u001b[0m\u001b[0mreplace\u001b[0m\u001b[0;34m(\u001b[0m\u001b[0;34m\"\\n\"\u001b[0m\u001b[0;34m,\u001b[0m\u001b[0;34m\"\"\u001b[0m\u001b[0;34m,\u001b[0m\u001b[0;36m4\u001b[0m\u001b[0;34m)\u001b[0m\u001b[0;34m.\u001b[0m\u001b[0mstrip\u001b[0m\u001b[0;34m(\u001b[0m\u001b[0;34m)\u001b[0m\u001b[0;34m\u001b[0m\u001b[0;34m\u001b[0m\u001b[0m\n\u001b[0m",
      "\u001b[0;31mAttributeError\u001b[0m: 'NoneType' object has no attribute 'text'"
     ]
    }
   ],
   "source": [
    "bs.select_one(\"div.plot_summary_wrapper > div.titleReviewBar > div:nth-child(1) > a > div > span\").text.replace(\"\\n\",\"\",4).strip()"
   ]
  },
  {
   "cell_type": "code",
   "execution_count": 199,
   "metadata": {},
   "outputs": [
    {
     "data": {
      "text/plain": [
       "['96',\n",
       " '58',\n",
       " '78',\n",
       " '59',\n",
       " '83',\n",
       " '90',\n",
       " '82',\n",
       " '91',\n",
       " '81',\n",
       " '93',\n",
       " '51',\n",
       " '94',\n",
       " '64',\n",
       " '66',\n",
       " '59',\n",
       " '83',\n",
       " '84',\n",
       " '52',\n",
       " '72',\n",
       " '64',\n",
       " '58',\n",
       " '47',\n",
       " '80']"
      ]
     },
     "execution_count": 199,
     "metadata": {},
     "output_type": "execute_result"
    }
   ],
   "source": [
    "movie_rank \n",
    "movie_title\n",
    "movie_description\n",
    "movie_runtime\n",
    "movie_genre \n",
    "movie_rating \n",
    "movie_metascore \n",
    "# movie_votes \n",
    "# movie_gross_earning_in_Mil\n",
    "# movie_director\n",
    "# movie_actor"
   ]
  },
  {
   "cell_type": "code",
   "execution_count": null,
   "metadata": {},
   "outputs": [],
   "source": []
  },
  {
   "cell_type": "code",
   "execution_count": null,
   "metadata": {},
   "outputs": [],
   "source": [
    "from bs4 import BeautifulSoup\n",
    "import requests\n",
    "import re\n",
    "import pandas as pd\n",
    "\n",
    "try_to_text = lambda x : x.text if x else None\n",
    "url = 'https://www.imdb.com/search/title/?count=100&release_date=2017,2017&title_type=feature'\n",
    "res = requests.get(url)\n",
    "soup = BeautifulSoup(res.text, 'html.parser')\n",
    "df = pd.DataFrame()\n",
    "\n",
    "for ele in soup.select('.lister-item-content'):\n",
    "    # 100개의 (각 영화의 정보를 가지고 있는)엘리먼트에 대한 loop\n",
    "    # 딕셔너리에 엘리먼트로부터 수집한 영화 정보를 할당하고 dataframe에\n",
    "    # 딕셔너리를 행으로 추가\n",
    "\n",
    "    # 처리가 간단한 정보는 딕셔너리에 바로 할당\n",
    "    row = {\n",
    "        'rank': ele.select_one('.lister-item-index').text.replace('.', ''),\n",
    "        'title': ele.select_one('.lister-item-header > a').text,\n",
    "        'description': ele.select('p.text-muted')[1].text.replace('\\n', ' '),\n",
    "        'runtime': ele.select_one('.runtime').text[:-4],\n",
    "        'genre': ele.select_one('.genre').text,\n",
    "        'rating': ele.select_one('.ratings-imdb-rating > strong').text,\n",
    "        'metascore': try_to_text(ele.select_one('.metascore')),\n",
    "        'votes': None,\n",
    "        'gross': None,\n",
    "    }\n",
    "\n",
    "    # 처리가 복잡한 정보는 파싱하여 딕셔너리에 할당\n",
    "    votes_n_gross = ele.select_one('.sort-num_votes-visible').get_text()\n",
    "    director_n_star = ele.select_one('p:nth-of-type(3)').get_text()\n",
    "    pattern = re.compile(r'[\\s\\n$M]')\n",
    "    for data in votes_n_gross.split('|'):\n",
    "        key, val = re.sub(pattern, '', data).split(':')\n",
    "        row[key.lower()] = float(val.replace(',', ''))\n",
    "    for data in director_n_star.split('|'):\n",
    "        key, val = data.replace('\\n', '').split(':')\n",
    "        if 'Directors' in key:\n",
    "            key = 'director'\n",
    "        row[key.lower().strip()] = val.strip()\n",
    "\n",
    "    # 딕셔너리를 dataframe의 행으로 추가\n",
    "    df = df.append(row, ignore_index=True)\n",
    "    \n",
    "\n",
    "# 1. csv 저장\n",
    "df.to_csv('../datas/output/movie2017_info.csv')\n"
   ]
  },
  {
   "cell_type": "code",
   "execution_count": 68,
   "metadata": {
    "scrolled": true
   },
   "outputs": [
    {
     "name": "stderr",
     "output_type": "stream",
     "text": [
      "IOPub data rate exceeded.\n",
      "The notebook server will temporarily stop sending output\n",
      "to the client in order to avoid crashing it.\n",
      "To change this limit, set the config variable\n",
      "`--NotebookApp.iopub_data_rate_limit`.\n",
      "\n",
      "Current values:\n",
      "NotebookApp.iopub_data_rate_limit=1000000.0 (bytes/sec)\n",
      "NotebookApp.rate_limit_window=3.0 (secs)\n",
      "\n"
     ]
    }
   ],
   "source": [
    "p = []\n",
    "for link in bs.findAll(\"a\"):\n",
    "    if 'href' in link.attrs and 'title' in link.attrs:\n",
    "        p.append(link.attrs['href'])\n",
    "    print(p)"
   ]
  },
  {
   "cell_type": "code",
   "execution_count": 76,
   "metadata": {},
   "outputs": [
    {
     "data": {
      "text/plain": [
       "[]"
      ]
     },
     "execution_count": 76,
     "metadata": {},
     "output_type": "execute_result"
    }
   ],
   "source": [
    "bs.find_all(\"div > a\")\n",
    "# for i in bs.find_all(\"a\"):\n",
    "#     if \"href\" in i.attrs:\n",
    "        \n",
    "#         print(i.attrs['href'])"
   ]
  }
 ],
 "metadata": {
  "kernelspec": {
   "display_name": "Python 3",
   "language": "python",
   "name": "python3"
  },
  "language_info": {
   "codemirror_mode": {
    "name": "ipython",
    "version": 3
   },
   "file_extension": ".py",
   "mimetype": "text/x-python",
   "name": "python",
   "nbconvert_exporter": "python",
   "pygments_lexer": "ipython3",
   "version": "3.6.10"
  }
 },
 "nbformat": 4,
 "nbformat_minor": 4
}
