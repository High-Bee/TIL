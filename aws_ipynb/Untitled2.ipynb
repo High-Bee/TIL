{
 "cells": [
  {
   "cell_type": "code",
   "execution_count": 49,
   "metadata": {},
   "outputs": [
    {
     "data": {
      "text/plain": [
       "11"
      ]
     },
     "execution_count": 49,
     "metadata": {},
     "output_type": "execute_result"
    }
   ],
   "source": [
    "li = [5.0,6.0,7.0,8.0,9.0,10.0,11.0,12.0,13.0,14.0,15.0]\n",
    "av= sum(li)/len(li)\n",
    "# std(li)\n",
    "len(li)"
   ]
  },
  {
   "cell_type": "code",
   "execution_count": 50,
   "metadata": {},
   "outputs": [],
   "source": [
    "a = 0\n",
    "for i in li:\n",
    "    t= (i-av)**(2) \n",
    "    a = a+t\n",
    "# t/(len(li)-1)\n",
    "# (a/9)**(1/2)\n",
    "# sd = a/9\n",
    "a\n",
    "sd = (a/11)**(1/2)"
   ]
  },
  {
   "cell_type": "code",
   "execution_count": 51,
   "metadata": {},
   "outputs": [],
   "source": [
    "nli=[]\n",
    "for i in li:\n",
    "    n=(i - av)/sd\n",
    "    nli.append(n)"
   ]
  },
  {
   "cell_type": "code",
   "execution_count": 52,
   "metadata": {},
   "outputs": [
    {
     "data": {
      "text/plain": [
       "[-1.5811388300841895,\n",
       " -1.2649110640673518,\n",
       " -0.9486832980505138,\n",
       " -0.6324555320336759,\n",
       " -0.31622776601683794,\n",
       " 0.0,\n",
       " 0.31622776601683794,\n",
       " 0.6324555320336759,\n",
       " 0.9486832980505138,\n",
       " 1.2649110640673518,\n",
       " 1.5811388300841895]"
      ]
     },
     "execution_count": 52,
     "metadata": {},
     "output_type": "execute_result"
    }
   ],
   "source": [
    "nli"
   ]
  },
  {
   "cell_type": "code",
   "execution_count": 31,
   "metadata": {},
   "outputs": [],
   "source": [
    "import math\n",
    "import numpy as np\n",
    "\n",
    "def mean(values):\n",
    "  if len(values) == 0:\n",
    "    return None\n",
    "  return sum(values, 0.0) / len(values)\n",
    "\n",
    "def standardDeviation(values, option):\n",
    "  if len(values) < 2:\n",
    "    return None\n",
    "\n",
    "  sd = 0.0\n",
    "  sum = 0.0\n",
    "  meanValue = mean(values)\n",
    "\n",
    "  for i in range(0, len(values)):\n",
    "    diff = values[i] - meanValue\n",
    "    sum += diff * diff\n",
    "\n",
    "  sd = math.sqrt(sum / (len(values) - option))\n",
    "  return sd\n"
   ]
  },
  {
   "cell_type": "code",
   "execution_count": 47,
   "metadata": {},
   "outputs": [
    {
     "data": {
      "text/plain": [
       "3.1622776601683795"
      ]
     },
     "execution_count": 47,
     "metadata": {},
     "output_type": "execute_result"
    }
   ],
   "source": [
    "nsd = standardDeviation(li,0)\n",
    "\n",
    "np.std(li)"
   ]
  },
  {
   "cell_type": "code",
   "execution_count": null,
   "metadata": {},
   "outputs": [],
   "source": [
    "13 3 5 7 9 20 25 30 40 55 56 57 60 62\n",
    "11 1 4 7 11 14 25 44 47 55 57 100\n",
    "4 -5 100 1000 1005\n",
    "3 -12 1000 1001"
   ]
  },
  {
   "cell_type": "code",
   "execution_count": 15,
   "metadata": {},
   "outputs": [
    {
     "name": "stdout",
     "output_type": "stream",
     "text": [
      "4 -5 100 1000 1005\n",
      "3 -12 1000 1001\n",
      "-5 -12\n",
      "-10 988\n",
      "-15 1989\n",
      "85 1977\n",
      "185 2977\n",
      "285 3978\n",
      "1285 3966\n",
      "4966 4966\n",
      "5966 5967\n",
      "6971 5955\n",
      "7976 6955\n",
      "8981 7956\n",
      "8981 1\n"
     ]
    }
   ],
   "source": [
    "a1 = list(map(int, input().split()))\n",
    "a2 = list(map(int, input().split()))\n",
    "a1_num = a1.pop(0)\n",
    "a2_num = a2.pop(0)\n",
    "\n",
    "em1 = 0\n",
    "em2 = 0\n",
    "\n",
    "for i in a1:\n",
    "       \n",
    "    for j in a2:\n",
    "        em1 += i\n",
    "        em2 += j\n",
    "        \n",
    "        if i == j:\n",
    "            if em1 > em2:\n",
    "                em2 = em1\n",
    "            elif em2 > em1:\n",
    "                em1 = em2\n",
    "        print(em1,em2)\n",
    "        \n",
    "if em1 > em2:\n",
    "    print(em1,1)\n",
    "else:\n",
    "    print(em2,2)\n",
    "            "
   ]
  },
  {
   "cell_type": "code",
   "execution_count": 10,
   "metadata": {},
   "outputs": [
    {
     "data": {
      "text/plain": [
       "[-5, 100, 1000, 1005]"
      ]
     },
     "execution_count": 10,
     "metadata": {},
     "output_type": "execute_result"
    }
   ],
   "source": [
    "a1"
   ]
  },
  {
   "cell_type": "code",
   "execution_count": null,
   "metadata": {},
   "outputs": [],
   "source": [
    "a1 = list(map(int, input().split()))\n",
    "a2 = list(map(int, input().split()))\n",
    "a1_num = a1.pop(0)\n",
    "a2_num = a2.pop(0)\n",
    "\n",
    "for i in ran"
   ]
  },
  {
   "cell_type": "markdown",
   "metadata": {},
   "source": [
    "문제\n",
    "N과 L이 주어질 때, 합이 N이면서, 길이가 적어도 L인 가장 짧은 연속된 음이 아닌 정수 리스트를 구하는 프로그램을 작성하시오.\n",
    "\n",
    "입력\n",
    "첫째 줄에 N과 L이 주어진다. N은 1,000,000,000보다 작거나 같은 자연수이고, L은 2보다 크거나 같고, 100보다 작거나 같은 자연수이다.\n",
    "\n",
    "출력\n",
    "만약 리스트의 길이가 100보다 작거나 같으면, 연속된 수를 첫째 줄에 공백으로 구분하여 출력한다. 만약 길이가 100보다 크거나 그러한 수열이 없을 때는 -1을 출력한다.\n",
    "\n",
    "예제 입력 1 \n",
    "18 2\n",
    "예제 출력 1 \n",
    "5 6 7"
   ]
  },
  {
   "cell_type": "code",
   "execution_count": 23,
   "metadata": {},
   "outputs": [
    {
     "name": "stdout",
     "output_type": "stream",
     "text": [
      "18 2\n",
      "5 6 7 "
     ]
    }
   ],
   "source": [
    "N,L = map(int,input().split())\n",
    "\n",
    "x=-1\n",
    "y=0\n",
    "for i in range(L,101):\n",
    "    t = (i-1)*i//2\n",
    "    if ((N-t)%i == 0) & ((N-t)//i>=0):\n",
    "        x = (N-t)//i\n",
    "        y = i\n",
    "        break\n",
    "\n",
    "if x==-1:\n",
    "    print(-1)\n",
    "else:\n",
    "    for i in range(0,y):\n",
    "        print(x+i,end = \" \")\n",
    "\n"
   ]
  },
  {
   "cell_type": "code",
   "execution_count": 47,
   "metadata": {},
   "outputs": [
    {
     "name": "stdout",
     "output_type": "stream",
     "text": [
      "18 4\n",
      "3 4 5 6\n"
     ]
    }
   ],
   "source": [
    "N,L=map(int,input().split())\n",
    "t=[-1]\n",
    "for i in range(L,101):\n",
    "    if (N-i*(i+1)/2)%i == 0:\n",
    "        a=int(N/i-(i-1)/2)\n",
    "        if a>-1:\n",
    "            t=range(a,a+i);\n",
    "            break\n",
    "print(*t)"
   ]
  },
  {
   "cell_type": "code",
   "execution_count": 55,
   "metadata": {},
   "outputs": [
    {
     "data": {
      "text/plain": [
       "3.141592653589793"
      ]
     },
     "execution_count": 55,
     "metadata": {},
     "output_type": "execute_result"
    }
   ],
   "source": [
    "import math\n",
    "\n",
    "math.pi"
   ]
  }
 ],
 "metadata": {
  "kernelspec": {
   "display_name": "Python 3",
   "language": "python",
   "name": "python3"
  },
  "language_info": {
   "codemirror_mode": {
    "name": "ipython",
    "version": 3
   },
   "file_extension": ".py",
   "mimetype": "text/x-python",
   "name": "python",
   "nbconvert_exporter": "python",
   "pygments_lexer": "ipython3",
   "version": "3.6.10"
  }
 },
 "nbformat": 4,
 "nbformat_minor": 4
}
